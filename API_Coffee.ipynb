{
  "nbformat": 4,
  "nbformat_minor": 0,
  "metadata": {
    "colab": {
      "provenance": [],
      "gpuType": "T4"
    },
    "kernelspec": {
      "name": "python3",
      "display_name": "Python 3"
    },
    "language_info": {
      "name": "python"
    },
    "accelerator": "GPU",
    "widgets": {
      "application/vnd.jupyter.widget-state+json": {
        "c6fe02c0e4cc493c9e12a339ab6619fe": {
          "model_module": "@jupyter-widgets/controls",
          "model_name": "HBoxModel",
          "model_module_version": "1.5.0",
          "state": {
            "_dom_classes": [],
            "_model_module": "@jupyter-widgets/controls",
            "_model_module_version": "1.5.0",
            "_model_name": "HBoxModel",
            "_view_count": null,
            "_view_module": "@jupyter-widgets/controls",
            "_view_module_version": "1.5.0",
            "_view_name": "HBoxView",
            "box_style": "",
            "children": [
              "IPY_MODEL_1cc430afe6534fd98c5551b157b701e4",
              "IPY_MODEL_9db2c74a68b94bf49961a5e72cf3d382",
              "IPY_MODEL_909554789a0f4c59a9fa56dd99edf15c"
            ],
            "layout": "IPY_MODEL_cefa15e5254a48a7b6e8d2cb0468f380"
          }
        },
        "1cc430afe6534fd98c5551b157b701e4": {
          "model_module": "@jupyter-widgets/controls",
          "model_name": "HTMLModel",
          "model_module_version": "1.5.0",
          "state": {
            "_dom_classes": [],
            "_model_module": "@jupyter-widgets/controls",
            "_model_module_version": "1.5.0",
            "_model_name": "HTMLModel",
            "_view_count": null,
            "_view_module": "@jupyter-widgets/controls",
            "_view_module_version": "1.5.0",
            "_view_name": "HTMLView",
            "description": "",
            "description_tooltip": null,
            "layout": "IPY_MODEL_9a968aceafdf4d98909aef20586ff688",
            "placeholder": "​",
            "style": "IPY_MODEL_2b04bd97a34e4f38847b1f434f8b7df3",
            "value": "config.json: 100%"
          }
        },
        "9db2c74a68b94bf49961a5e72cf3d382": {
          "model_module": "@jupyter-widgets/controls",
          "model_name": "FloatProgressModel",
          "model_module_version": "1.5.0",
          "state": {
            "_dom_classes": [],
            "_model_module": "@jupyter-widgets/controls",
            "_model_module_version": "1.5.0",
            "_model_name": "FloatProgressModel",
            "_view_count": null,
            "_view_module": "@jupyter-widgets/controls",
            "_view_module_version": "1.5.0",
            "_view_name": "ProgressView",
            "bar_style": "success",
            "description": "",
            "description_tooltip": null,
            "layout": "IPY_MODEL_edbffa5a461a4ea1836f53a14be2d527",
            "max": 557,
            "min": 0,
            "orientation": "horizontal",
            "style": "IPY_MODEL_58cedd316fce45148727a35087d2fb9c",
            "value": 557
          }
        },
        "909554789a0f4c59a9fa56dd99edf15c": {
          "model_module": "@jupyter-widgets/controls",
          "model_name": "HTMLModel",
          "model_module_version": "1.5.0",
          "state": {
            "_dom_classes": [],
            "_model_module": "@jupyter-widgets/controls",
            "_model_module_version": "1.5.0",
            "_model_name": "HTMLModel",
            "_view_count": null,
            "_view_module": "@jupyter-widgets/controls",
            "_view_module_version": "1.5.0",
            "_view_name": "HTMLView",
            "description": "",
            "description_tooltip": null,
            "layout": "IPY_MODEL_8a019fc41da248dc963cb4cc273c0bb7",
            "placeholder": "​",
            "style": "IPY_MODEL_13a01bba33a04cc18b6465d4692250fe",
            "value": " 557/557 [00:00&lt;00:00, 30.9kB/s]"
          }
        },
        "cefa15e5254a48a7b6e8d2cb0468f380": {
          "model_module": "@jupyter-widgets/base",
          "model_name": "LayoutModel",
          "model_module_version": "1.2.0",
          "state": {
            "_model_module": "@jupyter-widgets/base",
            "_model_module_version": "1.2.0",
            "_model_name": "LayoutModel",
            "_view_count": null,
            "_view_module": "@jupyter-widgets/base",
            "_view_module_version": "1.2.0",
            "_view_name": "LayoutView",
            "align_content": null,
            "align_items": null,
            "align_self": null,
            "border": null,
            "bottom": null,
            "display": null,
            "flex": null,
            "flex_flow": null,
            "grid_area": null,
            "grid_auto_columns": null,
            "grid_auto_flow": null,
            "grid_auto_rows": null,
            "grid_column": null,
            "grid_gap": null,
            "grid_row": null,
            "grid_template_areas": null,
            "grid_template_columns": null,
            "grid_template_rows": null,
            "height": null,
            "justify_content": null,
            "justify_items": null,
            "left": null,
            "margin": null,
            "max_height": null,
            "max_width": null,
            "min_height": null,
            "min_width": null,
            "object_fit": null,
            "object_position": null,
            "order": null,
            "overflow": null,
            "overflow_x": null,
            "overflow_y": null,
            "padding": null,
            "right": null,
            "top": null,
            "visibility": null,
            "width": null
          }
        },
        "9a968aceafdf4d98909aef20586ff688": {
          "model_module": "@jupyter-widgets/base",
          "model_name": "LayoutModel",
          "model_module_version": "1.2.0",
          "state": {
            "_model_module": "@jupyter-widgets/base",
            "_model_module_version": "1.2.0",
            "_model_name": "LayoutModel",
            "_view_count": null,
            "_view_module": "@jupyter-widgets/base",
            "_view_module_version": "1.2.0",
            "_view_name": "LayoutView",
            "align_content": null,
            "align_items": null,
            "align_self": null,
            "border": null,
            "bottom": null,
            "display": null,
            "flex": null,
            "flex_flow": null,
            "grid_area": null,
            "grid_auto_columns": null,
            "grid_auto_flow": null,
            "grid_auto_rows": null,
            "grid_column": null,
            "grid_gap": null,
            "grid_row": null,
            "grid_template_areas": null,
            "grid_template_columns": null,
            "grid_template_rows": null,
            "height": null,
            "justify_content": null,
            "justify_items": null,
            "left": null,
            "margin": null,
            "max_height": null,
            "max_width": null,
            "min_height": null,
            "min_width": null,
            "object_fit": null,
            "object_position": null,
            "order": null,
            "overflow": null,
            "overflow_x": null,
            "overflow_y": null,
            "padding": null,
            "right": null,
            "top": null,
            "visibility": null,
            "width": null
          }
        },
        "2b04bd97a34e4f38847b1f434f8b7df3": {
          "model_module": "@jupyter-widgets/controls",
          "model_name": "DescriptionStyleModel",
          "model_module_version": "1.5.0",
          "state": {
            "_model_module": "@jupyter-widgets/controls",
            "_model_module_version": "1.5.0",
            "_model_name": "DescriptionStyleModel",
            "_view_count": null,
            "_view_module": "@jupyter-widgets/base",
            "_view_module_version": "1.2.0",
            "_view_name": "StyleView",
            "description_width": ""
          }
        },
        "edbffa5a461a4ea1836f53a14be2d527": {
          "model_module": "@jupyter-widgets/base",
          "model_name": "LayoutModel",
          "model_module_version": "1.2.0",
          "state": {
            "_model_module": "@jupyter-widgets/base",
            "_model_module_version": "1.2.0",
            "_model_name": "LayoutModel",
            "_view_count": null,
            "_view_module": "@jupyter-widgets/base",
            "_view_module_version": "1.2.0",
            "_view_name": "LayoutView",
            "align_content": null,
            "align_items": null,
            "align_self": null,
            "border": null,
            "bottom": null,
            "display": null,
            "flex": null,
            "flex_flow": null,
            "grid_area": null,
            "grid_auto_columns": null,
            "grid_auto_flow": null,
            "grid_auto_rows": null,
            "grid_column": null,
            "grid_gap": null,
            "grid_row": null,
            "grid_template_areas": null,
            "grid_template_columns": null,
            "grid_template_rows": null,
            "height": null,
            "justify_content": null,
            "justify_items": null,
            "left": null,
            "margin": null,
            "max_height": null,
            "max_width": null,
            "min_height": null,
            "min_width": null,
            "object_fit": null,
            "object_position": null,
            "order": null,
            "overflow": null,
            "overflow_x": null,
            "overflow_y": null,
            "padding": null,
            "right": null,
            "top": null,
            "visibility": null,
            "width": null
          }
        },
        "58cedd316fce45148727a35087d2fb9c": {
          "model_module": "@jupyter-widgets/controls",
          "model_name": "ProgressStyleModel",
          "model_module_version": "1.5.0",
          "state": {
            "_model_module": "@jupyter-widgets/controls",
            "_model_module_version": "1.5.0",
            "_model_name": "ProgressStyleModel",
            "_view_count": null,
            "_view_module": "@jupyter-widgets/base",
            "_view_module_version": "1.2.0",
            "_view_name": "StyleView",
            "bar_color": null,
            "description_width": ""
          }
        },
        "8a019fc41da248dc963cb4cc273c0bb7": {
          "model_module": "@jupyter-widgets/base",
          "model_name": "LayoutModel",
          "model_module_version": "1.2.0",
          "state": {
            "_model_module": "@jupyter-widgets/base",
            "_model_module_version": "1.2.0",
            "_model_name": "LayoutModel",
            "_view_count": null,
            "_view_module": "@jupyter-widgets/base",
            "_view_module_version": "1.2.0",
            "_view_name": "LayoutView",
            "align_content": null,
            "align_items": null,
            "align_self": null,
            "border": null,
            "bottom": null,
            "display": null,
            "flex": null,
            "flex_flow": null,
            "grid_area": null,
            "grid_auto_columns": null,
            "grid_auto_flow": null,
            "grid_auto_rows": null,
            "grid_column": null,
            "grid_gap": null,
            "grid_row": null,
            "grid_template_areas": null,
            "grid_template_columns": null,
            "grid_template_rows": null,
            "height": null,
            "justify_content": null,
            "justify_items": null,
            "left": null,
            "margin": null,
            "max_height": null,
            "max_width": null,
            "min_height": null,
            "min_width": null,
            "object_fit": null,
            "object_position": null,
            "order": null,
            "overflow": null,
            "overflow_x": null,
            "overflow_y": null,
            "padding": null,
            "right": null,
            "top": null,
            "visibility": null,
            "width": null
          }
        },
        "13a01bba33a04cc18b6465d4692250fe": {
          "model_module": "@jupyter-widgets/controls",
          "model_name": "DescriptionStyleModel",
          "model_module_version": "1.5.0",
          "state": {
            "_model_module": "@jupyter-widgets/controls",
            "_model_module_version": "1.5.0",
            "_model_name": "DescriptionStyleModel",
            "_view_count": null,
            "_view_module": "@jupyter-widgets/base",
            "_view_module_version": "1.2.0",
            "_view_name": "StyleView",
            "description_width": ""
          }
        },
        "b046b4a79ce6493c933d0ad7a45e0cbd": {
          "model_module": "@jupyter-widgets/controls",
          "model_name": "HBoxModel",
          "model_module_version": "1.5.0",
          "state": {
            "_dom_classes": [],
            "_model_module": "@jupyter-widgets/controls",
            "_model_module_version": "1.5.0",
            "_model_name": "HBoxModel",
            "_view_count": null,
            "_view_module": "@jupyter-widgets/controls",
            "_view_module_version": "1.5.0",
            "_view_name": "HBoxView",
            "box_style": "",
            "children": [
              "IPY_MODEL_0ac1c755bb8e4c7682d0c9cfad519f64",
              "IPY_MODEL_18d4c762aea9470994f41befb8f9c19e",
              "IPY_MODEL_ded2f27068e84d9aba6079d2db7fc19c"
            ],
            "layout": "IPY_MODEL_5bf3a16785cc465583687bc13af283a3"
          }
        },
        "0ac1c755bb8e4c7682d0c9cfad519f64": {
          "model_module": "@jupyter-widgets/controls",
          "model_name": "HTMLModel",
          "model_module_version": "1.5.0",
          "state": {
            "_dom_classes": [],
            "_model_module": "@jupyter-widgets/controls",
            "_model_module_version": "1.5.0",
            "_model_name": "HTMLModel",
            "_view_count": null,
            "_view_module": "@jupyter-widgets/controls",
            "_view_module_version": "1.5.0",
            "_view_name": "HTMLView",
            "description": "",
            "description_tooltip": null,
            "layout": "IPY_MODEL_969929d1a23c49ffb43cef560c4a1599",
            "placeholder": "​",
            "style": "IPY_MODEL_a855a8b9d58e41e588f4209851428c8f",
            "value": "tf_model.h5: 100%"
          }
        },
        "18d4c762aea9470994f41befb8f9c19e": {
          "model_module": "@jupyter-widgets/controls",
          "model_name": "FloatProgressModel",
          "model_module_version": "1.5.0",
          "state": {
            "_dom_classes": [],
            "_model_module": "@jupyter-widgets/controls",
            "_model_module_version": "1.5.0",
            "_model_name": "FloatProgressModel",
            "_view_count": null,
            "_view_module": "@jupyter-widgets/controls",
            "_view_module_version": "1.5.0",
            "_view_name": "ProgressView",
            "bar_style": "success",
            "description": "",
            "description_tooltip": null,
            "layout": "IPY_MODEL_8175ad950d72424da8f0450cd3dc5382",
            "max": 740310212,
            "min": 0,
            "orientation": "horizontal",
            "style": "IPY_MODEL_6d387913cf6e4ed5a01d8d24d552f85f",
            "value": 740310212
          }
        },
        "ded2f27068e84d9aba6079d2db7fc19c": {
          "model_module": "@jupyter-widgets/controls",
          "model_name": "HTMLModel",
          "model_module_version": "1.5.0",
          "state": {
            "_dom_classes": [],
            "_model_module": "@jupyter-widgets/controls",
            "_model_module_version": "1.5.0",
            "_model_name": "HTMLModel",
            "_view_count": null,
            "_view_module": "@jupyter-widgets/controls",
            "_view_module_version": "1.5.0",
            "_view_name": "HTMLView",
            "description": "",
            "description_tooltip": null,
            "layout": "IPY_MODEL_17959d5d7be2450799aec23d4d994f87",
            "placeholder": "​",
            "style": "IPY_MODEL_aa273eb311d64290a261908fdf435966",
            "value": " 740M/740M [00:08&lt;00:00, 68.3MB/s]"
          }
        },
        "5bf3a16785cc465583687bc13af283a3": {
          "model_module": "@jupyter-widgets/base",
          "model_name": "LayoutModel",
          "model_module_version": "1.2.0",
          "state": {
            "_model_module": "@jupyter-widgets/base",
            "_model_module_version": "1.2.0",
            "_model_name": "LayoutModel",
            "_view_count": null,
            "_view_module": "@jupyter-widgets/base",
            "_view_module_version": "1.2.0",
            "_view_name": "LayoutView",
            "align_content": null,
            "align_items": null,
            "align_self": null,
            "border": null,
            "bottom": null,
            "display": null,
            "flex": null,
            "flex_flow": null,
            "grid_area": null,
            "grid_auto_columns": null,
            "grid_auto_flow": null,
            "grid_auto_rows": null,
            "grid_column": null,
            "grid_gap": null,
            "grid_row": null,
            "grid_template_areas": null,
            "grid_template_columns": null,
            "grid_template_rows": null,
            "height": null,
            "justify_content": null,
            "justify_items": null,
            "left": null,
            "margin": null,
            "max_height": null,
            "max_width": null,
            "min_height": null,
            "min_width": null,
            "object_fit": null,
            "object_position": null,
            "order": null,
            "overflow": null,
            "overflow_x": null,
            "overflow_y": null,
            "padding": null,
            "right": null,
            "top": null,
            "visibility": null,
            "width": null
          }
        },
        "969929d1a23c49ffb43cef560c4a1599": {
          "model_module": "@jupyter-widgets/base",
          "model_name": "LayoutModel",
          "model_module_version": "1.2.0",
          "state": {
            "_model_module": "@jupyter-widgets/base",
            "_model_module_version": "1.2.0",
            "_model_name": "LayoutModel",
            "_view_count": null,
            "_view_module": "@jupyter-widgets/base",
            "_view_module_version": "1.2.0",
            "_view_name": "LayoutView",
            "align_content": null,
            "align_items": null,
            "align_self": null,
            "border": null,
            "bottom": null,
            "display": null,
            "flex": null,
            "flex_flow": null,
            "grid_area": null,
            "grid_auto_columns": null,
            "grid_auto_flow": null,
            "grid_auto_rows": null,
            "grid_column": null,
            "grid_gap": null,
            "grid_row": null,
            "grid_template_areas": null,
            "grid_template_columns": null,
            "grid_template_rows": null,
            "height": null,
            "justify_content": null,
            "justify_items": null,
            "left": null,
            "margin": null,
            "max_height": null,
            "max_width": null,
            "min_height": null,
            "min_width": null,
            "object_fit": null,
            "object_position": null,
            "order": null,
            "overflow": null,
            "overflow_x": null,
            "overflow_y": null,
            "padding": null,
            "right": null,
            "top": null,
            "visibility": null,
            "width": null
          }
        },
        "a855a8b9d58e41e588f4209851428c8f": {
          "model_module": "@jupyter-widgets/controls",
          "model_name": "DescriptionStyleModel",
          "model_module_version": "1.5.0",
          "state": {
            "_model_module": "@jupyter-widgets/controls",
            "_model_module_version": "1.5.0",
            "_model_name": "DescriptionStyleModel",
            "_view_count": null,
            "_view_module": "@jupyter-widgets/base",
            "_view_module_version": "1.2.0",
            "_view_name": "StyleView",
            "description_width": ""
          }
        },
        "8175ad950d72424da8f0450cd3dc5382": {
          "model_module": "@jupyter-widgets/base",
          "model_name": "LayoutModel",
          "model_module_version": "1.2.0",
          "state": {
            "_model_module": "@jupyter-widgets/base",
            "_model_module_version": "1.2.0",
            "_model_name": "LayoutModel",
            "_view_count": null,
            "_view_module": "@jupyter-widgets/base",
            "_view_module_version": "1.2.0",
            "_view_name": "LayoutView",
            "align_content": null,
            "align_items": null,
            "align_self": null,
            "border": null,
            "bottom": null,
            "display": null,
            "flex": null,
            "flex_flow": null,
            "grid_area": null,
            "grid_auto_columns": null,
            "grid_auto_flow": null,
            "grid_auto_rows": null,
            "grid_column": null,
            "grid_gap": null,
            "grid_row": null,
            "grid_template_areas": null,
            "grid_template_columns": null,
            "grid_template_rows": null,
            "height": null,
            "justify_content": null,
            "justify_items": null,
            "left": null,
            "margin": null,
            "max_height": null,
            "max_width": null,
            "min_height": null,
            "min_width": null,
            "object_fit": null,
            "object_position": null,
            "order": null,
            "overflow": null,
            "overflow_x": null,
            "overflow_y": null,
            "padding": null,
            "right": null,
            "top": null,
            "visibility": null,
            "width": null
          }
        },
        "6d387913cf6e4ed5a01d8d24d552f85f": {
          "model_module": "@jupyter-widgets/controls",
          "model_name": "ProgressStyleModel",
          "model_module_version": "1.5.0",
          "state": {
            "_model_module": "@jupyter-widgets/controls",
            "_model_module_version": "1.5.0",
            "_model_name": "ProgressStyleModel",
            "_view_count": null,
            "_view_module": "@jupyter-widgets/base",
            "_view_module_version": "1.2.0",
            "_view_name": "StyleView",
            "bar_color": null,
            "description_width": ""
          }
        },
        "17959d5d7be2450799aec23d4d994f87": {
          "model_module": "@jupyter-widgets/base",
          "model_name": "LayoutModel",
          "model_module_version": "1.2.0",
          "state": {
            "_model_module": "@jupyter-widgets/base",
            "_model_module_version": "1.2.0",
            "_model_name": "LayoutModel",
            "_view_count": null,
            "_view_module": "@jupyter-widgets/base",
            "_view_module_version": "1.2.0",
            "_view_name": "LayoutView",
            "align_content": null,
            "align_items": null,
            "align_self": null,
            "border": null,
            "bottom": null,
            "display": null,
            "flex": null,
            "flex_flow": null,
            "grid_area": null,
            "grid_auto_columns": null,
            "grid_auto_flow": null,
            "grid_auto_rows": null,
            "grid_column": null,
            "grid_gap": null,
            "grid_row": null,
            "grid_template_areas": null,
            "grid_template_columns": null,
            "grid_template_rows": null,
            "height": null,
            "justify_content": null,
            "justify_items": null,
            "left": null,
            "margin": null,
            "max_height": null,
            "max_width": null,
            "min_height": null,
            "min_width": null,
            "object_fit": null,
            "object_position": null,
            "order": null,
            "overflow": null,
            "overflow_x": null,
            "overflow_y": null,
            "padding": null,
            "right": null,
            "top": null,
            "visibility": null,
            "width": null
          }
        },
        "aa273eb311d64290a261908fdf435966": {
          "model_module": "@jupyter-widgets/controls",
          "model_name": "DescriptionStyleModel",
          "model_module_version": "1.5.0",
          "state": {
            "_model_module": "@jupyter-widgets/controls",
            "_model_module_version": "1.5.0",
            "_model_name": "DescriptionStyleModel",
            "_view_count": null,
            "_view_module": "@jupyter-widgets/base",
            "_view_module_version": "1.2.0",
            "_view_name": "StyleView",
            "description_width": ""
          }
        },
        "6c65999968124178bcfd21cd5dd331d3": {
          "model_module": "@jupyter-widgets/controls",
          "model_name": "HBoxModel",
          "model_module_version": "1.5.0",
          "state": {
            "_dom_classes": [],
            "_model_module": "@jupyter-widgets/controls",
            "_model_module_version": "1.5.0",
            "_model_name": "HBoxModel",
            "_view_count": null,
            "_view_module": "@jupyter-widgets/controls",
            "_view_module_version": "1.5.0",
            "_view_name": "HBoxView",
            "box_style": "",
            "children": [
              "IPY_MODEL_3af86dc004c7433c980fb323337c9ace",
              "IPY_MODEL_b81b8745fd714d45af3b8513b7fd0750",
              "IPY_MODEL_faa713fa5ac542c785439332e721100e"
            ],
            "layout": "IPY_MODEL_23e11c8bf085484db7ba48d663db2908"
          }
        },
        "3af86dc004c7433c980fb323337c9ace": {
          "model_module": "@jupyter-widgets/controls",
          "model_name": "HTMLModel",
          "model_module_version": "1.5.0",
          "state": {
            "_dom_classes": [],
            "_model_module": "@jupyter-widgets/controls",
            "_model_module_version": "1.5.0",
            "_model_name": "HTMLModel",
            "_view_count": null,
            "_view_module": "@jupyter-widgets/controls",
            "_view_module_version": "1.5.0",
            "_view_name": "HTMLView",
            "description": "",
            "description_tooltip": null,
            "layout": "IPY_MODEL_2c085e734f544047a7df8f4e78368be2",
            "placeholder": "​",
            "style": "IPY_MODEL_0846bfb774bc415c945360dd2e72c1b2",
            "value": "vocab.txt: 100%"
          }
        },
        "b81b8745fd714d45af3b8513b7fd0750": {
          "model_module": "@jupyter-widgets/controls",
          "model_name": "FloatProgressModel",
          "model_module_version": "1.5.0",
          "state": {
            "_dom_classes": [],
            "_model_module": "@jupyter-widgets/controls",
            "_model_module_version": "1.5.0",
            "_model_name": "FloatProgressModel",
            "_view_count": null,
            "_view_module": "@jupyter-widgets/controls",
            "_view_module_version": "1.5.0",
            "_view_name": "ProgressView",
            "bar_style": "success",
            "description": "",
            "description_tooltip": null,
            "layout": "IPY_MODEL_42ed71e9cffa4059ae3bebb772d46559",
            "max": 895321,
            "min": 0,
            "orientation": "horizontal",
            "style": "IPY_MODEL_ba95a9531c4547338f1ea550b2a7a830",
            "value": 895321
          }
        },
        "faa713fa5ac542c785439332e721100e": {
          "model_module": "@jupyter-widgets/controls",
          "model_name": "HTMLModel",
          "model_module_version": "1.5.0",
          "state": {
            "_dom_classes": [],
            "_model_module": "@jupyter-widgets/controls",
            "_model_module_version": "1.5.0",
            "_model_name": "HTMLModel",
            "_view_count": null,
            "_view_module": "@jupyter-widgets/controls",
            "_view_module_version": "1.5.0",
            "_view_name": "HTMLView",
            "description": "",
            "description_tooltip": null,
            "layout": "IPY_MODEL_bf1c2a12dd204f83b01567e63ae1e1e7",
            "placeholder": "​",
            "style": "IPY_MODEL_c871ee5983e047f9b6d94454cd1f967c",
            "value": " 895k/895k [00:00&lt;00:00, 9.89MB/s]"
          }
        },
        "23e11c8bf085484db7ba48d663db2908": {
          "model_module": "@jupyter-widgets/base",
          "model_name": "LayoutModel",
          "model_module_version": "1.2.0",
          "state": {
            "_model_module": "@jupyter-widgets/base",
            "_model_module_version": "1.2.0",
            "_model_name": "LayoutModel",
            "_view_count": null,
            "_view_module": "@jupyter-widgets/base",
            "_view_module_version": "1.2.0",
            "_view_name": "LayoutView",
            "align_content": null,
            "align_items": null,
            "align_self": null,
            "border": null,
            "bottom": null,
            "display": null,
            "flex": null,
            "flex_flow": null,
            "grid_area": null,
            "grid_auto_columns": null,
            "grid_auto_flow": null,
            "grid_auto_rows": null,
            "grid_column": null,
            "grid_gap": null,
            "grid_row": null,
            "grid_template_areas": null,
            "grid_template_columns": null,
            "grid_template_rows": null,
            "height": null,
            "justify_content": null,
            "justify_items": null,
            "left": null,
            "margin": null,
            "max_height": null,
            "max_width": null,
            "min_height": null,
            "min_width": null,
            "object_fit": null,
            "object_position": null,
            "order": null,
            "overflow": null,
            "overflow_x": null,
            "overflow_y": null,
            "padding": null,
            "right": null,
            "top": null,
            "visibility": null,
            "width": null
          }
        },
        "2c085e734f544047a7df8f4e78368be2": {
          "model_module": "@jupyter-widgets/base",
          "model_name": "LayoutModel",
          "model_module_version": "1.2.0",
          "state": {
            "_model_module": "@jupyter-widgets/base",
            "_model_module_version": "1.2.0",
            "_model_name": "LayoutModel",
            "_view_count": null,
            "_view_module": "@jupyter-widgets/base",
            "_view_module_version": "1.2.0",
            "_view_name": "LayoutView",
            "align_content": null,
            "align_items": null,
            "align_self": null,
            "border": null,
            "bottom": null,
            "display": null,
            "flex": null,
            "flex_flow": null,
            "grid_area": null,
            "grid_auto_columns": null,
            "grid_auto_flow": null,
            "grid_auto_rows": null,
            "grid_column": null,
            "grid_gap": null,
            "grid_row": null,
            "grid_template_areas": null,
            "grid_template_columns": null,
            "grid_template_rows": null,
            "height": null,
            "justify_content": null,
            "justify_items": null,
            "left": null,
            "margin": null,
            "max_height": null,
            "max_width": null,
            "min_height": null,
            "min_width": null,
            "object_fit": null,
            "object_position": null,
            "order": null,
            "overflow": null,
            "overflow_x": null,
            "overflow_y": null,
            "padding": null,
            "right": null,
            "top": null,
            "visibility": null,
            "width": null
          }
        },
        "0846bfb774bc415c945360dd2e72c1b2": {
          "model_module": "@jupyter-widgets/controls",
          "model_name": "DescriptionStyleModel",
          "model_module_version": "1.5.0",
          "state": {
            "_model_module": "@jupyter-widgets/controls",
            "_model_module_version": "1.5.0",
            "_model_name": "DescriptionStyleModel",
            "_view_count": null,
            "_view_module": "@jupyter-widgets/base",
            "_view_module_version": "1.2.0",
            "_view_name": "StyleView",
            "description_width": ""
          }
        },
        "42ed71e9cffa4059ae3bebb772d46559": {
          "model_module": "@jupyter-widgets/base",
          "model_name": "LayoutModel",
          "model_module_version": "1.2.0",
          "state": {
            "_model_module": "@jupyter-widgets/base",
            "_model_module_version": "1.2.0",
            "_model_name": "LayoutModel",
            "_view_count": null,
            "_view_module": "@jupyter-widgets/base",
            "_view_module_version": "1.2.0",
            "_view_name": "LayoutView",
            "align_content": null,
            "align_items": null,
            "align_self": null,
            "border": null,
            "bottom": null,
            "display": null,
            "flex": null,
            "flex_flow": null,
            "grid_area": null,
            "grid_auto_columns": null,
            "grid_auto_flow": null,
            "grid_auto_rows": null,
            "grid_column": null,
            "grid_gap": null,
            "grid_row": null,
            "grid_template_areas": null,
            "grid_template_columns": null,
            "grid_template_rows": null,
            "height": null,
            "justify_content": null,
            "justify_items": null,
            "left": null,
            "margin": null,
            "max_height": null,
            "max_width": null,
            "min_height": null,
            "min_width": null,
            "object_fit": null,
            "object_position": null,
            "order": null,
            "overflow": null,
            "overflow_x": null,
            "overflow_y": null,
            "padding": null,
            "right": null,
            "top": null,
            "visibility": null,
            "width": null
          }
        },
        "ba95a9531c4547338f1ea550b2a7a830": {
          "model_module": "@jupyter-widgets/controls",
          "model_name": "ProgressStyleModel",
          "model_module_version": "1.5.0",
          "state": {
            "_model_module": "@jupyter-widgets/controls",
            "_model_module_version": "1.5.0",
            "_model_name": "ProgressStyleModel",
            "_view_count": null,
            "_view_module": "@jupyter-widgets/base",
            "_view_module_version": "1.2.0",
            "_view_name": "StyleView",
            "bar_color": null,
            "description_width": ""
          }
        },
        "bf1c2a12dd204f83b01567e63ae1e1e7": {
          "model_module": "@jupyter-widgets/base",
          "model_name": "LayoutModel",
          "model_module_version": "1.2.0",
          "state": {
            "_model_module": "@jupyter-widgets/base",
            "_model_module_version": "1.2.0",
            "_model_name": "LayoutModel",
            "_view_count": null,
            "_view_module": "@jupyter-widgets/base",
            "_view_module_version": "1.2.0",
            "_view_name": "LayoutView",
            "align_content": null,
            "align_items": null,
            "align_self": null,
            "border": null,
            "bottom": null,
            "display": null,
            "flex": null,
            "flex_flow": null,
            "grid_area": null,
            "grid_auto_columns": null,
            "grid_auto_flow": null,
            "grid_auto_rows": null,
            "grid_column": null,
            "grid_gap": null,
            "grid_row": null,
            "grid_template_areas": null,
            "grid_template_columns": null,
            "grid_template_rows": null,
            "height": null,
            "justify_content": null,
            "justify_items": null,
            "left": null,
            "margin": null,
            "max_height": null,
            "max_width": null,
            "min_height": null,
            "min_width": null,
            "object_fit": null,
            "object_position": null,
            "order": null,
            "overflow": null,
            "overflow_x": null,
            "overflow_y": null,
            "padding": null,
            "right": null,
            "top": null,
            "visibility": null,
            "width": null
          }
        },
        "c871ee5983e047f9b6d94454cd1f967c": {
          "model_module": "@jupyter-widgets/controls",
          "model_name": "DescriptionStyleModel",
          "model_module_version": "1.5.0",
          "state": {
            "_model_module": "@jupyter-widgets/controls",
            "_model_module_version": "1.5.0",
            "_model_name": "DescriptionStyleModel",
            "_view_count": null,
            "_view_module": "@jupyter-widgets/base",
            "_view_module_version": "1.2.0",
            "_view_name": "StyleView",
            "description_width": ""
          }
        },
        "ede5eb61c4c7428382ba433eff3e2068": {
          "model_module": "@jupyter-widgets/controls",
          "model_name": "HBoxModel",
          "model_module_version": "1.5.0",
          "state": {
            "_dom_classes": [],
            "_model_module": "@jupyter-widgets/controls",
            "_model_module_version": "1.5.0",
            "_model_name": "HBoxModel",
            "_view_count": null,
            "_view_module": "@jupyter-widgets/controls",
            "_view_module_version": "1.5.0",
            "_view_name": "HBoxView",
            "box_style": "",
            "children": [
              "IPY_MODEL_79fc0f97be6549f2aae5e89cefa307fe",
              "IPY_MODEL_44117710dffc4c6a905fbc8b7237bd5a",
              "IPY_MODEL_338f4454d7b2444b8920888d48a2f908"
            ],
            "layout": "IPY_MODEL_dd6504374d9148cc8cbb908044a4d272"
          }
        },
        "79fc0f97be6549f2aae5e89cefa307fe": {
          "model_module": "@jupyter-widgets/controls",
          "model_name": "HTMLModel",
          "model_module_version": "1.5.0",
          "state": {
            "_dom_classes": [],
            "_model_module": "@jupyter-widgets/controls",
            "_model_module_version": "1.5.0",
            "_model_name": "HTMLModel",
            "_view_count": null,
            "_view_module": "@jupyter-widgets/controls",
            "_view_module_version": "1.5.0",
            "_view_name": "HTMLView",
            "description": "",
            "description_tooltip": null,
            "layout": "IPY_MODEL_94f4a05f8f334434b549cb0f20d7b734",
            "placeholder": "​",
            "style": "IPY_MODEL_b04ec2412fed4d34b332b7cc02507d94",
            "value": "bpe.codes: 100%"
          }
        },
        "44117710dffc4c6a905fbc8b7237bd5a": {
          "model_module": "@jupyter-widgets/controls",
          "model_name": "FloatProgressModel",
          "model_module_version": "1.5.0",
          "state": {
            "_dom_classes": [],
            "_model_module": "@jupyter-widgets/controls",
            "_model_module_version": "1.5.0",
            "_model_name": "FloatProgressModel",
            "_view_count": null,
            "_view_module": "@jupyter-widgets/controls",
            "_view_module_version": "1.5.0",
            "_view_name": "ProgressView",
            "bar_style": "success",
            "description": "",
            "description_tooltip": null,
            "layout": "IPY_MODEL_e4df6820239f4db590d71ee168746063",
            "max": 1135173,
            "min": 0,
            "orientation": "horizontal",
            "style": "IPY_MODEL_b767de297025400ea077d8d62314feeb",
            "value": 1135173
          }
        },
        "338f4454d7b2444b8920888d48a2f908": {
          "model_module": "@jupyter-widgets/controls",
          "model_name": "HTMLModel",
          "model_module_version": "1.5.0",
          "state": {
            "_dom_classes": [],
            "_model_module": "@jupyter-widgets/controls",
            "_model_module_version": "1.5.0",
            "_model_name": "HTMLModel",
            "_view_count": null,
            "_view_module": "@jupyter-widgets/controls",
            "_view_module_version": "1.5.0",
            "_view_name": "HTMLView",
            "description": "",
            "description_tooltip": null,
            "layout": "IPY_MODEL_f67e008fd2674b1c98810b823a5405ea",
            "placeholder": "​",
            "style": "IPY_MODEL_1e6868dbd4bd4ba98e50fe9a2e80646e",
            "value": " 1.14M/1.14M [00:00&lt;00:00, 3.47MB/s]"
          }
        },
        "dd6504374d9148cc8cbb908044a4d272": {
          "model_module": "@jupyter-widgets/base",
          "model_name": "LayoutModel",
          "model_module_version": "1.2.0",
          "state": {
            "_model_module": "@jupyter-widgets/base",
            "_model_module_version": "1.2.0",
            "_model_name": "LayoutModel",
            "_view_count": null,
            "_view_module": "@jupyter-widgets/base",
            "_view_module_version": "1.2.0",
            "_view_name": "LayoutView",
            "align_content": null,
            "align_items": null,
            "align_self": null,
            "border": null,
            "bottom": null,
            "display": null,
            "flex": null,
            "flex_flow": null,
            "grid_area": null,
            "grid_auto_columns": null,
            "grid_auto_flow": null,
            "grid_auto_rows": null,
            "grid_column": null,
            "grid_gap": null,
            "grid_row": null,
            "grid_template_areas": null,
            "grid_template_columns": null,
            "grid_template_rows": null,
            "height": null,
            "justify_content": null,
            "justify_items": null,
            "left": null,
            "margin": null,
            "max_height": null,
            "max_width": null,
            "min_height": null,
            "min_width": null,
            "object_fit": null,
            "object_position": null,
            "order": null,
            "overflow": null,
            "overflow_x": null,
            "overflow_y": null,
            "padding": null,
            "right": null,
            "top": null,
            "visibility": null,
            "width": null
          }
        },
        "94f4a05f8f334434b549cb0f20d7b734": {
          "model_module": "@jupyter-widgets/base",
          "model_name": "LayoutModel",
          "model_module_version": "1.2.0",
          "state": {
            "_model_module": "@jupyter-widgets/base",
            "_model_module_version": "1.2.0",
            "_model_name": "LayoutModel",
            "_view_count": null,
            "_view_module": "@jupyter-widgets/base",
            "_view_module_version": "1.2.0",
            "_view_name": "LayoutView",
            "align_content": null,
            "align_items": null,
            "align_self": null,
            "border": null,
            "bottom": null,
            "display": null,
            "flex": null,
            "flex_flow": null,
            "grid_area": null,
            "grid_auto_columns": null,
            "grid_auto_flow": null,
            "grid_auto_rows": null,
            "grid_column": null,
            "grid_gap": null,
            "grid_row": null,
            "grid_template_areas": null,
            "grid_template_columns": null,
            "grid_template_rows": null,
            "height": null,
            "justify_content": null,
            "justify_items": null,
            "left": null,
            "margin": null,
            "max_height": null,
            "max_width": null,
            "min_height": null,
            "min_width": null,
            "object_fit": null,
            "object_position": null,
            "order": null,
            "overflow": null,
            "overflow_x": null,
            "overflow_y": null,
            "padding": null,
            "right": null,
            "top": null,
            "visibility": null,
            "width": null
          }
        },
        "b04ec2412fed4d34b332b7cc02507d94": {
          "model_module": "@jupyter-widgets/controls",
          "model_name": "DescriptionStyleModel",
          "model_module_version": "1.5.0",
          "state": {
            "_model_module": "@jupyter-widgets/controls",
            "_model_module_version": "1.5.0",
            "_model_name": "DescriptionStyleModel",
            "_view_count": null,
            "_view_module": "@jupyter-widgets/base",
            "_view_module_version": "1.2.0",
            "_view_name": "StyleView",
            "description_width": ""
          }
        },
        "e4df6820239f4db590d71ee168746063": {
          "model_module": "@jupyter-widgets/base",
          "model_name": "LayoutModel",
          "model_module_version": "1.2.0",
          "state": {
            "_model_module": "@jupyter-widgets/base",
            "_model_module_version": "1.2.0",
            "_model_name": "LayoutModel",
            "_view_count": null,
            "_view_module": "@jupyter-widgets/base",
            "_view_module_version": "1.2.0",
            "_view_name": "LayoutView",
            "align_content": null,
            "align_items": null,
            "align_self": null,
            "border": null,
            "bottom": null,
            "display": null,
            "flex": null,
            "flex_flow": null,
            "grid_area": null,
            "grid_auto_columns": null,
            "grid_auto_flow": null,
            "grid_auto_rows": null,
            "grid_column": null,
            "grid_gap": null,
            "grid_row": null,
            "grid_template_areas": null,
            "grid_template_columns": null,
            "grid_template_rows": null,
            "height": null,
            "justify_content": null,
            "justify_items": null,
            "left": null,
            "margin": null,
            "max_height": null,
            "max_width": null,
            "min_height": null,
            "min_width": null,
            "object_fit": null,
            "object_position": null,
            "order": null,
            "overflow": null,
            "overflow_x": null,
            "overflow_y": null,
            "padding": null,
            "right": null,
            "top": null,
            "visibility": null,
            "width": null
          }
        },
        "b767de297025400ea077d8d62314feeb": {
          "model_module": "@jupyter-widgets/controls",
          "model_name": "ProgressStyleModel",
          "model_module_version": "1.5.0",
          "state": {
            "_model_module": "@jupyter-widgets/controls",
            "_model_module_version": "1.5.0",
            "_model_name": "ProgressStyleModel",
            "_view_count": null,
            "_view_module": "@jupyter-widgets/base",
            "_view_module_version": "1.2.0",
            "_view_name": "StyleView",
            "bar_color": null,
            "description_width": ""
          }
        },
        "f67e008fd2674b1c98810b823a5405ea": {
          "model_module": "@jupyter-widgets/base",
          "model_name": "LayoutModel",
          "model_module_version": "1.2.0",
          "state": {
            "_model_module": "@jupyter-widgets/base",
            "_model_module_version": "1.2.0",
            "_model_name": "LayoutModel",
            "_view_count": null,
            "_view_module": "@jupyter-widgets/base",
            "_view_module_version": "1.2.0",
            "_view_name": "LayoutView",
            "align_content": null,
            "align_items": null,
            "align_self": null,
            "border": null,
            "bottom": null,
            "display": null,
            "flex": null,
            "flex_flow": null,
            "grid_area": null,
            "grid_auto_columns": null,
            "grid_auto_flow": null,
            "grid_auto_rows": null,
            "grid_column": null,
            "grid_gap": null,
            "grid_row": null,
            "grid_template_areas": null,
            "grid_template_columns": null,
            "grid_template_rows": null,
            "height": null,
            "justify_content": null,
            "justify_items": null,
            "left": null,
            "margin": null,
            "max_height": null,
            "max_width": null,
            "min_height": null,
            "min_width": null,
            "object_fit": null,
            "object_position": null,
            "order": null,
            "overflow": null,
            "overflow_x": null,
            "overflow_y": null,
            "padding": null,
            "right": null,
            "top": null,
            "visibility": null,
            "width": null
          }
        },
        "1e6868dbd4bd4ba98e50fe9a2e80646e": {
          "model_module": "@jupyter-widgets/controls",
          "model_name": "DescriptionStyleModel",
          "model_module_version": "1.5.0",
          "state": {
            "_model_module": "@jupyter-widgets/controls",
            "_model_module_version": "1.5.0",
            "_model_name": "DescriptionStyleModel",
            "_view_count": null,
            "_view_module": "@jupyter-widgets/base",
            "_view_module_version": "1.2.0",
            "_view_name": "StyleView",
            "description_width": ""
          }
        },
        "c7f960c89b2a48f39aa5ec54041c8dad": {
          "model_module": "@jupyter-widgets/controls",
          "model_name": "HBoxModel",
          "model_module_version": "1.5.0",
          "state": {
            "_dom_classes": [],
            "_model_module": "@jupyter-widgets/controls",
            "_model_module_version": "1.5.0",
            "_model_name": "HBoxModel",
            "_view_count": null,
            "_view_module": "@jupyter-widgets/controls",
            "_view_module_version": "1.5.0",
            "_view_name": "HBoxView",
            "box_style": "",
            "children": [
              "IPY_MODEL_94bcda8879b34583aa3882d6aa8a997a",
              "IPY_MODEL_725b2bdf9b794d4b962afb53c2da4250",
              "IPY_MODEL_8c8d918fac9a48428ff6fafb8a3ba2ec"
            ],
            "layout": "IPY_MODEL_1851d71ec6b9455c92411271f8afe033"
          }
        },
        "94bcda8879b34583aa3882d6aa8a997a": {
          "model_module": "@jupyter-widgets/controls",
          "model_name": "HTMLModel",
          "model_module_version": "1.5.0",
          "state": {
            "_dom_classes": [],
            "_model_module": "@jupyter-widgets/controls",
            "_model_module_version": "1.5.0",
            "_model_name": "HTMLModel",
            "_view_count": null,
            "_view_module": "@jupyter-widgets/controls",
            "_view_module_version": "1.5.0",
            "_view_name": "HTMLView",
            "description": "",
            "description_tooltip": null,
            "layout": "IPY_MODEL_91fddbc5732f4bcfa57b5f1ed1ce7065",
            "placeholder": "​",
            "style": "IPY_MODEL_a9c290ff614c4ef0b85f93c7fc71f685",
            "value": "tokenizer.json: 100%"
          }
        },
        "725b2bdf9b794d4b962afb53c2da4250": {
          "model_module": "@jupyter-widgets/controls",
          "model_name": "FloatProgressModel",
          "model_module_version": "1.5.0",
          "state": {
            "_dom_classes": [],
            "_model_module": "@jupyter-widgets/controls",
            "_model_module_version": "1.5.0",
            "_model_name": "FloatProgressModel",
            "_view_count": null,
            "_view_module": "@jupyter-widgets/controls",
            "_view_module_version": "1.5.0",
            "_view_name": "ProgressView",
            "bar_style": "success",
            "description": "",
            "description_tooltip": null,
            "layout": "IPY_MODEL_49074dcc298f42a08220e285768e2a6f",
            "max": 3132320,
            "min": 0,
            "orientation": "horizontal",
            "style": "IPY_MODEL_bb1b041f10d44708b003a88c1de1654b",
            "value": 3132320
          }
        },
        "8c8d918fac9a48428ff6fafb8a3ba2ec": {
          "model_module": "@jupyter-widgets/controls",
          "model_name": "HTMLModel",
          "model_module_version": "1.5.0",
          "state": {
            "_dom_classes": [],
            "_model_module": "@jupyter-widgets/controls",
            "_model_module_version": "1.5.0",
            "_model_name": "HTMLModel",
            "_view_count": null,
            "_view_module": "@jupyter-widgets/controls",
            "_view_module_version": "1.5.0",
            "_view_name": "HTMLView",
            "description": "",
            "description_tooltip": null,
            "layout": "IPY_MODEL_cef6585f90ce4ad4a2159ff058e2ac0e",
            "placeholder": "​",
            "style": "IPY_MODEL_e051f6fca2f44bc78124faf10c42ade8",
            "value": " 3.13M/3.13M [00:00&lt;00:00, 6.34MB/s]"
          }
        },
        "1851d71ec6b9455c92411271f8afe033": {
          "model_module": "@jupyter-widgets/base",
          "model_name": "LayoutModel",
          "model_module_version": "1.2.0",
          "state": {
            "_model_module": "@jupyter-widgets/base",
            "_model_module_version": "1.2.0",
            "_model_name": "LayoutModel",
            "_view_count": null,
            "_view_module": "@jupyter-widgets/base",
            "_view_module_version": "1.2.0",
            "_view_name": "LayoutView",
            "align_content": null,
            "align_items": null,
            "align_self": null,
            "border": null,
            "bottom": null,
            "display": null,
            "flex": null,
            "flex_flow": null,
            "grid_area": null,
            "grid_auto_columns": null,
            "grid_auto_flow": null,
            "grid_auto_rows": null,
            "grid_column": null,
            "grid_gap": null,
            "grid_row": null,
            "grid_template_areas": null,
            "grid_template_columns": null,
            "grid_template_rows": null,
            "height": null,
            "justify_content": null,
            "justify_items": null,
            "left": null,
            "margin": null,
            "max_height": null,
            "max_width": null,
            "min_height": null,
            "min_width": null,
            "object_fit": null,
            "object_position": null,
            "order": null,
            "overflow": null,
            "overflow_x": null,
            "overflow_y": null,
            "padding": null,
            "right": null,
            "top": null,
            "visibility": null,
            "width": null
          }
        },
        "91fddbc5732f4bcfa57b5f1ed1ce7065": {
          "model_module": "@jupyter-widgets/base",
          "model_name": "LayoutModel",
          "model_module_version": "1.2.0",
          "state": {
            "_model_module": "@jupyter-widgets/base",
            "_model_module_version": "1.2.0",
            "_model_name": "LayoutModel",
            "_view_count": null,
            "_view_module": "@jupyter-widgets/base",
            "_view_module_version": "1.2.0",
            "_view_name": "LayoutView",
            "align_content": null,
            "align_items": null,
            "align_self": null,
            "border": null,
            "bottom": null,
            "display": null,
            "flex": null,
            "flex_flow": null,
            "grid_area": null,
            "grid_auto_columns": null,
            "grid_auto_flow": null,
            "grid_auto_rows": null,
            "grid_column": null,
            "grid_gap": null,
            "grid_row": null,
            "grid_template_areas": null,
            "grid_template_columns": null,
            "grid_template_rows": null,
            "height": null,
            "justify_content": null,
            "justify_items": null,
            "left": null,
            "margin": null,
            "max_height": null,
            "max_width": null,
            "min_height": null,
            "min_width": null,
            "object_fit": null,
            "object_position": null,
            "order": null,
            "overflow": null,
            "overflow_x": null,
            "overflow_y": null,
            "padding": null,
            "right": null,
            "top": null,
            "visibility": null,
            "width": null
          }
        },
        "a9c290ff614c4ef0b85f93c7fc71f685": {
          "model_module": "@jupyter-widgets/controls",
          "model_name": "DescriptionStyleModel",
          "model_module_version": "1.5.0",
          "state": {
            "_model_module": "@jupyter-widgets/controls",
            "_model_module_version": "1.5.0",
            "_model_name": "DescriptionStyleModel",
            "_view_count": null,
            "_view_module": "@jupyter-widgets/base",
            "_view_module_version": "1.2.0",
            "_view_name": "StyleView",
            "description_width": ""
          }
        },
        "49074dcc298f42a08220e285768e2a6f": {
          "model_module": "@jupyter-widgets/base",
          "model_name": "LayoutModel",
          "model_module_version": "1.2.0",
          "state": {
            "_model_module": "@jupyter-widgets/base",
            "_model_module_version": "1.2.0",
            "_model_name": "LayoutModel",
            "_view_count": null,
            "_view_module": "@jupyter-widgets/base",
            "_view_module_version": "1.2.0",
            "_view_name": "LayoutView",
            "align_content": null,
            "align_items": null,
            "align_self": null,
            "border": null,
            "bottom": null,
            "display": null,
            "flex": null,
            "flex_flow": null,
            "grid_area": null,
            "grid_auto_columns": null,
            "grid_auto_flow": null,
            "grid_auto_rows": null,
            "grid_column": null,
            "grid_gap": null,
            "grid_row": null,
            "grid_template_areas": null,
            "grid_template_columns": null,
            "grid_template_rows": null,
            "height": null,
            "justify_content": null,
            "justify_items": null,
            "left": null,
            "margin": null,
            "max_height": null,
            "max_width": null,
            "min_height": null,
            "min_width": null,
            "object_fit": null,
            "object_position": null,
            "order": null,
            "overflow": null,
            "overflow_x": null,
            "overflow_y": null,
            "padding": null,
            "right": null,
            "top": null,
            "visibility": null,
            "width": null
          }
        },
        "bb1b041f10d44708b003a88c1de1654b": {
          "model_module": "@jupyter-widgets/controls",
          "model_name": "ProgressStyleModel",
          "model_module_version": "1.5.0",
          "state": {
            "_model_module": "@jupyter-widgets/controls",
            "_model_module_version": "1.5.0",
            "_model_name": "ProgressStyleModel",
            "_view_count": null,
            "_view_module": "@jupyter-widgets/base",
            "_view_module_version": "1.2.0",
            "_view_name": "StyleView",
            "bar_color": null,
            "description_width": ""
          }
        },
        "cef6585f90ce4ad4a2159ff058e2ac0e": {
          "model_module": "@jupyter-widgets/base",
          "model_name": "LayoutModel",
          "model_module_version": "1.2.0",
          "state": {
            "_model_module": "@jupyter-widgets/base",
            "_model_module_version": "1.2.0",
            "_model_name": "LayoutModel",
            "_view_count": null,
            "_view_module": "@jupyter-widgets/base",
            "_view_module_version": "1.2.0",
            "_view_name": "LayoutView",
            "align_content": null,
            "align_items": null,
            "align_self": null,
            "border": null,
            "bottom": null,
            "display": null,
            "flex": null,
            "flex_flow": null,
            "grid_area": null,
            "grid_auto_columns": null,
            "grid_auto_flow": null,
            "grid_auto_rows": null,
            "grid_column": null,
            "grid_gap": null,
            "grid_row": null,
            "grid_template_areas": null,
            "grid_template_columns": null,
            "grid_template_rows": null,
            "height": null,
            "justify_content": null,
            "justify_items": null,
            "left": null,
            "margin": null,
            "max_height": null,
            "max_width": null,
            "min_height": null,
            "min_width": null,
            "object_fit": null,
            "object_position": null,
            "order": null,
            "overflow": null,
            "overflow_x": null,
            "overflow_y": null,
            "padding": null,
            "right": null,
            "top": null,
            "visibility": null,
            "width": null
          }
        },
        "e051f6fca2f44bc78124faf10c42ade8": {
          "model_module": "@jupyter-widgets/controls",
          "model_name": "DescriptionStyleModel",
          "model_module_version": "1.5.0",
          "state": {
            "_model_module": "@jupyter-widgets/controls",
            "_model_module_version": "1.5.0",
            "_model_name": "DescriptionStyleModel",
            "_view_count": null,
            "_view_module": "@jupyter-widgets/base",
            "_view_module_version": "1.2.0",
            "_view_name": "StyleView",
            "description_width": ""
          }
        }
      }
    }
  },
  "cells": [
    {
      "cell_type": "markdown",
      "source": [
        "# Firebase"
      ],
      "metadata": {
        "id": "1hDR-U3ULR2-"
      }
    },
    {
      "cell_type": "code",
      "source": [
        "import firebase_admin\n",
        "from firebase_admin import credentials\n",
        "from firebase_admin import db\n",
        "\n",
        "# Khởi tạo kết nối với Firebase\n",
        "cred = credentials.Certificate('serviceAccountKey.json')\n",
        "firebase_admin.initialize_app(cred, {\n",
        "    'databaseURL': 'https://coffee-4053c-default-rtdb.asia-southeast1.firebasedatabase.app/'\n",
        "})"
      ],
      "metadata": {
        "id": "8PQXzUgxLT_o",
        "colab": {
          "base_uri": "https://localhost:8080/"
        },
        "outputId": "e65d2d62-1979-4528-c698-f3d06c0aa718"
      },
      "execution_count": null,
      "outputs": [
        {
          "output_type": "execute_result",
          "data": {
            "text/plain": [
              "<firebase_admin.App at 0x792604dda3e0>"
            ]
          },
          "metadata": {},
          "execution_count": 20
        }
      ]
    },
    {
      "cell_type": "code",
      "source": [
        "def GetProducts():\n",
        "    # Lấy dữ liệu từ nút \"SanPham\" trong Firebase\n",
        "    product_data = db.reference('SanPham').get()\n",
        "\n",
        "    # Lấy dữ liệu từ nút \"LoaiSanPham\" trong Firebase\n",
        "    product_type_data = db.reference('LoaiSanPham').get()\n",
        "    list_product_type = list(product_type_data.values())\n",
        "\n",
        "    # Xử lý dữ liệu\n",
        "    products = [\n",
        "        {\n",
        "            'MaSanPham': product['MaSanPham'],\n",
        "            'TenSanPham': product['TenSanPham'],\n",
        "            'SoLuong': product['SoLuong'],\n",
        "            'MoTa': product['Mota'],\n",
        "            'HinhAnh': product['HinhAnh'],\n",
        "            'LoaiSanPham': next((x['LoaiSanPham'] for x in list_product_type if x['MaLoaiSanPham'] == product['MaLoaiSanPham']), None),\n",
        "            'CongThuc': list(product['CongThuc'].values())\n",
        "        }\n",
        "        for product in product_data.values()\n",
        "    ]\n",
        "\n",
        "    return products"
      ],
      "metadata": {
        "id": "W8KcRyikY3cE"
      },
      "execution_count": null,
      "outputs": []
    },
    {
      "cell_type": "code",
      "source": [
        "from collections import Counter\n",
        "\n",
        "def GetTopProductID(number = 5):\n",
        "  bill_data = db.reference('HoaDon').get()\n",
        "\n",
        "  product_quantities = Counter()\n",
        "\n",
        "  for bill_details in bill_data.values():\n",
        "      for product_details in bill_details['ChiTietHoaDon'].values():\n",
        "          product_quantities[product_details['MaSanPham']] += product_details['SoLuong']\n",
        "\n",
        "  top_products = product_quantities.most_common(number)\n",
        "\n",
        "  return [productID for productID, quantity in top_products]"
      ],
      "metadata": {
        "id": "qf4FLyx-ZKMN"
      },
      "execution_count": null,
      "outputs": []
    },
    {
      "cell_type": "code",
      "source": [
        "products = GetProducts()\n",
        "product_size = len(products)"
      ],
      "metadata": {
        "id": "ljlbRrGDgfeE"
      },
      "execution_count": null,
      "outputs": []
    },
    {
      "cell_type": "code",
      "source": [
        "products[:5]"
      ],
      "metadata": {
        "colab": {
          "base_uri": "https://localhost:8080/"
        },
        "id": "9OsBoAgNJE3c",
        "outputId": "af2a5524-8a58-4307-d0fe-0f013fbbef06",
        "collapsed": true
      },
      "execution_count": null,
      "outputs": [
        {
          "output_type": "execute_result",
          "data": {
            "text/plain": [
              "[{'MaSanPham': 'SP0001',\n",
              "  'TenSanPham': 'Cà phê sữa',\n",
              "  'SoLuong': 18,\n",
              "  'MoTa': 'Cà phê sữa siêu ngon',\n",
              "  'HinhAnh': 'https://res.cloudinary.com/dev9hnuhw/image/upload/v1717966721/coffee/vigdytrefgtuwev3wsnx.jpg',\n",
              "  'LoaiSanPham': 'Cà phê',\n",
              "  'CongThuc': [{'MaDonVi': 'DV0002',\n",
              "    'MaNguyenLieu': 'NL0003',\n",
              "    'SoLuong': 20,\n",
              "    'TenDonVi': 'g',\n",
              "    'TenNguyenLieu': 'Cà phê'},\n",
              "   {'MaDonVi': 'DV0004',\n",
              "    'MaNguyenLieu': 'NL0006',\n",
              "    'SoLuong': 200,\n",
              "    'TenDonVi': 'ml',\n",
              "    'TenNguyenLieu': 'Sữa'}]},\n",
              " {'MaSanPham': 'SP0002',\n",
              "  'TenSanPham': 'Americano đá',\n",
              "  'SoLuong': 5,\n",
              "  'MoTa': 'Americano đá siêu ngon',\n",
              "  'HinhAnh': 'https://res.cloudinary.com/dev9hnuhw/image/upload/v1715354979/coffee/u1tgayzvetmsbihacuhp.png',\n",
              "  'LoaiSanPham': 'Cà phê',\n",
              "  'CongThuc': [{'MaDonVi': 'DV0001',\n",
              "    'MaNguyenLieu': 'NL0003',\n",
              "    'SoLuong': 10,\n",
              "    'TenDonVi': 'g',\n",
              "    'TenNguyenLieu': 'Cà phê'}]},\n",
              " {'MaSanPham': 'SP0003',\n",
              "  'TenSanPham': 'Latte đá',\n",
              "  'SoLuong': 10,\n",
              "  'MoTa': 'Latte đá siêu ngon',\n",
              "  'HinhAnh': 'https://res.cloudinary.com/dev9hnuhw/image/upload/v1715355765/coffee/qgafjnr2rjxbews8ythq.png',\n",
              "  'LoaiSanPham': 'Cà phê',\n",
              "  'CongThuc': [{'MaDonVi': 'DV0001',\n",
              "    'MaNguyenLieu': 'NL0003',\n",
              "    'SoLuong': 10,\n",
              "    'TenDonVi': 'g',\n",
              "    'TenNguyenLieu': 'Cà phê'},\n",
              "   {'MaDonVi': 'DV0003',\n",
              "    'MaNguyenLieu': 'NL0009',\n",
              "    'SoLuong': 180,\n",
              "    'TenDonVi': 'ml',\n",
              "    'TenNguyenLieu': 'Kem tươi'}]},\n",
              " {'MaSanPham': 'SP0004',\n",
              "  'TenSanPham': 'Latte kem đá',\n",
              "  'SoLuong': 10,\n",
              "  'MoTa': 'Latte kem đá siêu ngon',\n",
              "  'HinhAnh': 'https://res.cloudinary.com/dev9hnuhw/image/upload/v1715355808/coffee/t2h8zj7vmxobg4q2zb7h.png',\n",
              "  'LoaiSanPham': 'Cà phê',\n",
              "  'CongThuc': [{'MaDonVi': 'DV0001',\n",
              "    'MaNguyenLieu': 'NL0003',\n",
              "    'SoLuong': 10,\n",
              "    'TenDonVi': 'g',\n",
              "    'TenNguyenLieu': 'Cà phê'},\n",
              "   {'MaDonVi': 'DV0001',\n",
              "    'MaNguyenLieu': 'NL0004',\n",
              "    'SoLuong': 1,\n",
              "    'TenDonVi': 'g',\n",
              "    'TenNguyenLieu': 'Ca cao'},\n",
              "   {'MaDonVi': 'DV0003',\n",
              "    'MaNguyenLieu': 'NL0009',\n",
              "    'SoLuong': 200,\n",
              "    'TenDonVi': 'ml',\n",
              "    'TenNguyenLieu': 'Kem tươi'}]},\n",
              " {'MaSanPham': 'SP0005',\n",
              "  'TenSanPham': 'Cà phê kem tươi',\n",
              "  'SoLuong': 6,\n",
              "  'MoTa': 'Cà phê kem tươi siêu ngon',\n",
              "  'HinhAnh': 'https://res.cloudinary.com/dev9hnuhw/image/upload/v1715355856/coffee/cjfstjqonifg2qsyr6hi.png',\n",
              "  'LoaiSanPham': 'Cà phê',\n",
              "  'CongThuc': [{'MaDonVi': 'DV0001',\n",
              "    'MaNguyenLieu': 'NL0003',\n",
              "    'SoLuong': 8,\n",
              "    'TenDonVi': 'g',\n",
              "    'TenNguyenLieu': 'Cà phê'},\n",
              "   {'MaDonVi': 'DV0003',\n",
              "    'MaNguyenLieu': 'NL0010',\n",
              "    'SoLuong': 100,\n",
              "    'TenDonVi': 'ml',\n",
              "    'TenNguyenLieu': 'Kem tươi Whipping Cream'}]}]"
            ]
          },
          "metadata": {},
          "execution_count": 24
        }
      ]
    },
    {
      "cell_type": "code",
      "source": [
        "def GetIngredients():\n",
        "    ingredient_data = db.reference('NguyenLieu').get()\n",
        "    ingredients = list(ingredient_data.values())\n",
        "\n",
        "    return ingredients"
      ],
      "metadata": {
        "id": "0C-uA1w5wCme"
      },
      "execution_count": null,
      "outputs": []
    },
    {
      "cell_type": "code",
      "source": [
        "ingredients = GetIngredients()"
      ],
      "metadata": {
        "id": "HalBlYm7wX_p"
      },
      "execution_count": null,
      "outputs": []
    },
    {
      "cell_type": "code",
      "source": [
        "ingredients"
      ],
      "metadata": {
        "colab": {
          "base_uri": "https://localhost:8080/"
        },
        "collapsed": true,
        "id": "x23iP7VywckS",
        "outputId": "e013ffd7-4c1d-4b10-af13-73a8fc9cfc2d"
      },
      "execution_count": null,
      "outputs": [
        {
          "output_type": "execute_result",
          "data": {
            "text/plain": [
              "[{'MaDonVi': 'DV0001',\n",
              "  'MaNguyenLieu': 'NL0001',\n",
              "  'SoLuong': 34,\n",
              "  'TenNguyenLieu': 'Muối'},\n",
              " {'MaDonVi': 'DV0001',\n",
              "  'MaNguyenLieu': 'NL0002',\n",
              "  'SoLuong': 38,\n",
              "  'TenNguyenLieu': 'Đường'},\n",
              " {'MaDonVi': 'DV0001',\n",
              "  'MaNguyenLieu': 'NL0003',\n",
              "  'SoLuong': 8.8,\n",
              "  'TenDonVi': 'Kg',\n",
              "  'TenNguyenLieu': 'Cà phê'},\n",
              " {'MaDonVi': 'DV0001',\n",
              "  'MaNguyenLieu': 'NL0004',\n",
              "  'SoLuong': 10,\n",
              "  'TenDonVi': 'Kg',\n",
              "  'TenNguyenLieu': 'Ca cao'},\n",
              " {'MaDonVi': 'DV0001',\n",
              "  'MaNguyenLieu': 'NL0005',\n",
              "  'SoLuong': 10,\n",
              "  'TenNguyenLieu': 'Bột quế'},\n",
              " {'MaDonVi': 'DV0003',\n",
              "  'MaNguyenLieu': 'NL0006',\n",
              "  'SoLuong': 7,\n",
              "  'TenDonVi': 'l',\n",
              "  'TenNguyenLieu': 'Sữa'},\n",
              " {'MaDonVi': 'DV0003',\n",
              "  'MaNguyenLieu': 'NL0007',\n",
              "  'SoLuong': 10,\n",
              "  'TenNguyenLieu': 'Trà đen'},\n",
              " {'MaDonVi': 'DV0001',\n",
              "  'MaNguyenLieu': 'NL0008',\n",
              "  'SoLuong': 10,\n",
              "  'TenNguyenLieu': 'Cà phê hoà tan'},\n",
              " {'MaDonVi': 'DV0004',\n",
              "  'MaNguyenLieu': 'NL0009',\n",
              "  'SoLuong': 10000,\n",
              "  'TenDonVi': 'ml',\n",
              "  'TenNguyenLieu': 'Kem tươi'},\n",
              " {'MaDonVi': 'DV0003',\n",
              "  'MaNguyenLieu': 'NL0010',\n",
              "  'SoLuong': 0,\n",
              "  'TenDonVi': 'l',\n",
              "  'TenNguyenLieu': 'Kem tươi Whipping Cream'},\n",
              " {'MaDonVi': 'DV0003',\n",
              "  'MaNguyenLieu': 'NL0011',\n",
              "  'SoLuong': 10,\n",
              "  'TenNguyenLieu': 'Sữa không đường'},\n",
              " {'MaDonVi': 'DV0001',\n",
              "  'MaNguyenLieu': 'NL0012',\n",
              "  'SoLuong': 1,\n",
              "  'TenNguyenLieu': 'test'}]"
            ]
          },
          "metadata": {},
          "execution_count": 27
        }
      ]
    },
    {
      "cell_type": "markdown",
      "source": [
        "# Chatbot"
      ],
      "metadata": {
        "id": "N9v7cnZ5Nd1U"
      }
    },
    {
      "cell_type": "code",
      "source": [
        "import tensorflow as tf\n",
        "from transformers import AutoTokenizer, TFAutoModel\n",
        "from tensorflow.keras.layers import Input, Lambda, Dense, Concatenate, Conv1D, GlobalAveragePooling1D, Dropout, BatchNormalization, Bidirectional, LSTM, Layer\n",
        "from tensorflow.keras.models import Model\n",
        "from tensorflow.keras.callbacks import EarlyStopping, ReduceLROnPlateau\n",
        "from sklearn.utils import class_weight\n",
        "import numpy as np\n",
        "from sklearn.metrics.pairwise import cosine_similarity"
      ],
      "metadata": {
        "id": "riAf_ws3NfQL",
        "colab": {
          "base_uri": "https://localhost:8080/"
        },
        "outputId": "72e5ce49-6d64-4298-84dc-b0a524e614b8"
      },
      "execution_count": null,
      "outputs": [
        {
          "output_type": "stream",
          "name": "stderr",
          "text": [
            "/usr/local/lib/python3.10/dist-packages/tensorflow/python/types/core.py:79: RuntimeWarning: coroutine 'Server.serve' was never awaited\n",
            "  class Value(Tensor):\n",
            "RuntimeWarning: Enable tracemalloc to get the object allocation traceback\n"
          ]
        }
      ]
    },
    {
      "cell_type": "code",
      "source": [
        "# Configuration and Model Parameters\n",
        "bert_name = \"vinai/phobert-base\"\n",
        "\n",
        "# Load pre-trained BERT model and tokenizer\n",
        "bert = TFAutoModel.from_pretrained(bert_name)\n",
        "tokenizer = AutoTokenizer.from_pretrained(bert_name)\n",
        "\n",
        "MAX_LEN_CONTEXT = 25\n",
        "\n",
        "class BERTEmbeddingLayer(Layer):\n",
        "    def __init__(self, bert_model_name, max_length, **kwargs):\n",
        "        super(BERTEmbeddingLayer, self).__init__(**kwargs)\n",
        "        self.bert_model_name = bert_model_name\n",
        "        self.max_length = max_length\n",
        "        # Load the BERT model inside the layer\n",
        "        self.bert = TFAutoModel.from_pretrained(bert_model_name)\n",
        "\n",
        "    def call(self, inputs):\n",
        "        input_ids, attention_mask = inputs\n",
        "        # Obtain BERT outputs\n",
        "        outputs = self.bert(input_ids=input_ids, attention_mask=attention_mask)\n",
        "        return outputs.last_hidden_state  # Equivalent to outputs[0]\n",
        "\n",
        "    def get_config(self):\n",
        "        config = super(BERTEmbeddingLayer, self).get_config()\n",
        "        config.update({\n",
        "            'bert_model_name': self.bert_model_name,\n",
        "            'max_length': self.max_length,\n",
        "        })\n",
        "        return config\n",
        "\n",
        "    @classmethod\n",
        "    def from_config(cls, config):\n",
        "        return cls(**config)"
      ],
      "metadata": {
        "colab": {
          "base_uri": "https://localhost:8080/",
          "height": 423,
          "referenced_widgets": [
            "c6fe02c0e4cc493c9e12a339ab6619fe",
            "1cc430afe6534fd98c5551b157b701e4",
            "9db2c74a68b94bf49961a5e72cf3d382",
            "909554789a0f4c59a9fa56dd99edf15c",
            "cefa15e5254a48a7b6e8d2cb0468f380",
            "9a968aceafdf4d98909aef20586ff688",
            "2b04bd97a34e4f38847b1f434f8b7df3",
            "edbffa5a461a4ea1836f53a14be2d527",
            "58cedd316fce45148727a35087d2fb9c",
            "8a019fc41da248dc963cb4cc273c0bb7",
            "13a01bba33a04cc18b6465d4692250fe",
            "b046b4a79ce6493c933d0ad7a45e0cbd",
            "0ac1c755bb8e4c7682d0c9cfad519f64",
            "18d4c762aea9470994f41befb8f9c19e",
            "ded2f27068e84d9aba6079d2db7fc19c",
            "5bf3a16785cc465583687bc13af283a3",
            "969929d1a23c49ffb43cef560c4a1599",
            "a855a8b9d58e41e588f4209851428c8f",
            "8175ad950d72424da8f0450cd3dc5382",
            "6d387913cf6e4ed5a01d8d24d552f85f",
            "17959d5d7be2450799aec23d4d994f87",
            "aa273eb311d64290a261908fdf435966",
            "6c65999968124178bcfd21cd5dd331d3",
            "3af86dc004c7433c980fb323337c9ace",
            "b81b8745fd714d45af3b8513b7fd0750",
            "faa713fa5ac542c785439332e721100e",
            "23e11c8bf085484db7ba48d663db2908",
            "2c085e734f544047a7df8f4e78368be2",
            "0846bfb774bc415c945360dd2e72c1b2",
            "42ed71e9cffa4059ae3bebb772d46559",
            "ba95a9531c4547338f1ea550b2a7a830",
            "bf1c2a12dd204f83b01567e63ae1e1e7",
            "c871ee5983e047f9b6d94454cd1f967c",
            "ede5eb61c4c7428382ba433eff3e2068",
            "79fc0f97be6549f2aae5e89cefa307fe",
            "44117710dffc4c6a905fbc8b7237bd5a",
            "338f4454d7b2444b8920888d48a2f908",
            "dd6504374d9148cc8cbb908044a4d272",
            "94f4a05f8f334434b549cb0f20d7b734",
            "b04ec2412fed4d34b332b7cc02507d94",
            "e4df6820239f4db590d71ee168746063",
            "b767de297025400ea077d8d62314feeb",
            "f67e008fd2674b1c98810b823a5405ea",
            "1e6868dbd4bd4ba98e50fe9a2e80646e",
            "c7f960c89b2a48f39aa5ec54041c8dad",
            "94bcda8879b34583aa3882d6aa8a997a",
            "725b2bdf9b794d4b962afb53c2da4250",
            "8c8d918fac9a48428ff6fafb8a3ba2ec",
            "1851d71ec6b9455c92411271f8afe033",
            "91fddbc5732f4bcfa57b5f1ed1ce7065",
            "a9c290ff614c4ef0b85f93c7fc71f685",
            "49074dcc298f42a08220e285768e2a6f",
            "bb1b041f10d44708b003a88c1de1654b",
            "cef6585f90ce4ad4a2159ff058e2ac0e",
            "e051f6fca2f44bc78124faf10c42ade8"
          ]
        },
        "id": "jQXO7PasY0sl",
        "outputId": "56ba1c46-eb38-4e1f-883a-ef1e51f797b8"
      },
      "execution_count": null,
      "outputs": [
        {
          "output_type": "stream",
          "name": "stderr",
          "text": [
            "/usr/local/lib/python3.10/dist-packages/huggingface_hub/utils/_token.py:89: UserWarning: \n",
            "The secret `HF_TOKEN` does not exist in your Colab secrets.\n",
            "To authenticate with the Hugging Face Hub, create a token in your settings tab (https://huggingface.co/settings/tokens), set it as secret in your Google Colab and restart your session.\n",
            "You will be able to reuse this secret in all of your notebooks.\n",
            "Please note that authentication is recommended but still optional to access public models or datasets.\n",
            "  warnings.warn(\n"
          ]
        },
        {
          "output_type": "display_data",
          "data": {
            "text/plain": [
              "config.json:   0%|          | 0.00/557 [00:00<?, ?B/s]"
            ],
            "application/vnd.jupyter.widget-view+json": {
              "version_major": 2,
              "version_minor": 0,
              "model_id": "c6fe02c0e4cc493c9e12a339ab6619fe"
            }
          },
          "metadata": {}
        },
        {
          "output_type": "display_data",
          "data": {
            "text/plain": [
              "tf_model.h5:   0%|          | 0.00/740M [00:00<?, ?B/s]"
            ],
            "application/vnd.jupyter.widget-view+json": {
              "version_major": 2,
              "version_minor": 0,
              "model_id": "b046b4a79ce6493c933d0ad7a45e0cbd"
            }
          },
          "metadata": {}
        },
        {
          "output_type": "stream",
          "name": "stderr",
          "text": [
            "Some layers from the model checkpoint at vinai/phobert-base were not used when initializing TFRobertaModel: ['lm_head']\n",
            "- This IS expected if you are initializing TFRobertaModel from the checkpoint of a model trained on another task or with another architecture (e.g. initializing a BertForSequenceClassification model from a BertForPreTraining model).\n",
            "- This IS NOT expected if you are initializing TFRobertaModel from the checkpoint of a model that you expect to be exactly identical (initializing a BertForSequenceClassification model from a BertForSequenceClassification model).\n",
            "All the layers of TFRobertaModel were initialized from the model checkpoint at vinai/phobert-base.\n",
            "If your task is similar to the task the model of the checkpoint was trained on, you can already use TFRobertaModel for predictions without further training.\n"
          ]
        },
        {
          "output_type": "display_data",
          "data": {
            "text/plain": [
              "vocab.txt:   0%|          | 0.00/895k [00:00<?, ?B/s]"
            ],
            "application/vnd.jupyter.widget-view+json": {
              "version_major": 2,
              "version_minor": 0,
              "model_id": "6c65999968124178bcfd21cd5dd331d3"
            }
          },
          "metadata": {}
        },
        {
          "output_type": "display_data",
          "data": {
            "text/plain": [
              "bpe.codes:   0%|          | 0.00/1.14M [00:00<?, ?B/s]"
            ],
            "application/vnd.jupyter.widget-view+json": {
              "version_major": 2,
              "version_minor": 0,
              "model_id": "ede5eb61c4c7428382ba433eff3e2068"
            }
          },
          "metadata": {}
        },
        {
          "output_type": "display_data",
          "data": {
            "text/plain": [
              "tokenizer.json:   0%|          | 0.00/3.13M [00:00<?, ?B/s]"
            ],
            "application/vnd.jupyter.widget-view+json": {
              "version_major": 2,
              "version_minor": 0,
              "model_id": "c7f960c89b2a48f39aa5ec54041c8dad"
            }
          },
          "metadata": {}
        },
        {
          "output_type": "stream",
          "name": "stderr",
          "text": [
            "/usr/local/lib/python3.10/dist-packages/transformers/tokenization_utils_base.py:1601: FutureWarning: `clean_up_tokenization_spaces` was not set. It will be set to `True` by default. This behavior will be depracted in transformers v4.45, and will be then set to `False` by default. For more details check this issue: https://github.com/huggingface/transformers/issues/31884\n",
            "  warnings.warn(\n"
          ]
        }
      ]
    },
    {
      "cell_type": "code",
      "source": [
        "model = tf.keras.models.load_model('model_coffee_question_classification.keras', custom_objects={'BERTEmbeddingLayer': BERTEmbeddingLayer})"
      ],
      "metadata": {
        "colab": {
          "base_uri": "https://localhost:8080/"
        },
        "id": "TGwNOcdfRYMX",
        "outputId": "833d028f-e7d3-47c6-8589-abb6d87f24ad",
        "collapsed": true
      },
      "execution_count": null,
      "outputs": [
        {
          "output_type": "stream",
          "name": "stderr",
          "text": [
            "Some layers from the model checkpoint at vinai/phobert-base were not used when initializing TFRobertaModel: ['lm_head']\n",
            "- This IS expected if you are initializing TFRobertaModel from the checkpoint of a model trained on another task or with another architecture (e.g. initializing a BertForSequenceClassification model from a BertForPreTraining model).\n",
            "- This IS NOT expected if you are initializing TFRobertaModel from the checkpoint of a model that you expect to be exactly identical (initializing a BertForSequenceClassification model from a BertForSequenceClassification model).\n",
            "All the layers of TFRobertaModel were initialized from the model checkpoint at vinai/phobert-base.\n",
            "If your task is similar to the task the model of the checkpoint was trained on, you can already use TFRobertaModel for predictions without further training.\n"
          ]
        }
      ]
    },
    {
      "cell_type": "code",
      "source": [
        "MAX_LEN_CONTEXT = 25\n",
        "\n",
        "def getNumberPredict(question):\n",
        "  test_contexts = [question]\n",
        "\n",
        "  # Tokenize the test contexts\n",
        "  test_encodings = tokenizer(\n",
        "      test_contexts,\n",
        "      truncation=True,\n",
        "      padding='max_length',\n",
        "      max_length=MAX_LEN_CONTEXT,\n",
        "      add_special_tokens=True,\n",
        "      return_tensors='tf'\n",
        "  )\n",
        "\n",
        "  # Prepare input tensors\n",
        "  test_input_ids = test_encodings['input_ids']\n",
        "  test_attention_mask = test_encodings['attention_mask']\n",
        "\n",
        "  # Make predictions using the model\n",
        "  predictions = model.predict([test_input_ids, test_attention_mask], batch_size=32)\n",
        "\n",
        "  # Convert predictions to class labels (e.g., using argmax)\n",
        "  predicted_classes = np.argmax(predictions, axis=1)\n",
        "\n",
        "  return predicted_classes[0]\n",
        "\n",
        "  # If you have a dictionary mapping from class indices to class labels, apply it\n",
        "  # Example:\n",
        "  label_mapping = {0: 'infomation', 1: 'productTopSell', 2: 'recommendedProduct', 3: 'ingredient', 4: 'quality', 5: 'greeting'}\n",
        "  predicted_labels = [label_mapping.get(pred, 'unknown') for pred in predicted_classes]\n",
        "\n",
        "  # Print the predicted labels\n",
        "  for context, label in zip(test_contexts, predicted_labels):\n",
        "      print(f\"Question: {context} --> Predicted Label: {label}\")"
      ],
      "metadata": {
        "id": "5TCgiA-gQZqo"
      },
      "execution_count": null,
      "outputs": []
    },
    {
      "cell_type": "markdown",
      "source": [
        "# DSA"
      ],
      "metadata": {
        "id": "5y6PtZWPnSYI"
      }
    },
    {
      "cell_type": "code",
      "source": [
        "# KMP algorithm for searching product names in a precomputed LPS of a question\n",
        "def compute_lps_array(pattern):\n",
        "    lps = [0] * len(pattern)\n",
        "    length = 0  # Length of the previous longest prefix suffix\n",
        "    i = 1\n",
        "\n",
        "    while i < len(pattern):\n",
        "        if pattern[i] == pattern[length]:\n",
        "            length += 1\n",
        "            lps[i] = length\n",
        "            i += 1\n",
        "        else:\n",
        "            if length != 0:\n",
        "                length = lps[length - 1]\n",
        "            else:\n",
        "                lps[i] = 0\n",
        "                i += 1\n",
        "\n",
        "    return lps\n",
        "\n",
        "def kmp_search_with_precomputed_lps(text, pattern, lps):\n",
        "    i = 0  # Index for text\n",
        "    j = 0  # Index for pattern\n",
        "\n",
        "    while i < len(text):\n",
        "        if pattern[j] == text[i]:\n",
        "            i += 1\n",
        "            j += 1\n",
        "\n",
        "        if j == len(pattern):\n",
        "            return True  # Pattern found\n",
        "        elif i < len(text) and pattern[j] != text[i]:\n",
        "            if j != 0:\n",
        "                j = lps[j - 1]\n",
        "            else:\n",
        "                i += 1\n",
        "\n",
        "    return False  # Pattern not found\n",
        "\n",
        "# Function to find product names in a question using precomputed LPS\n",
        "def find_products_in_question_kmp_precomputed(question, product_list):\n",
        "    question_lower = question.lower()\n",
        "    lps_question = compute_lps_array(question_lower)\n",
        "\n",
        "    detected_products = []\n",
        "\n",
        "    for product in product_list:\n",
        "        product_name = product[\"TenSanPham\"].lower()\n",
        "        if kmp_search_with_precomputed_lps(question_lower, product_name, lps_question):\n",
        "            detected_products.append(product)\n",
        "\n",
        "    return detected_products\n",
        "\n",
        "def find_ingredients_in_question_kmp_precomputed(question, ingredient_list):\n",
        "    question_lower = question.lower()\n",
        "    lps_question = compute_lps_array(question_lower)\n",
        "\n",
        "    detected_ingredients = []\n",
        "\n",
        "    for ingredient in ingredient_list:\n",
        "        ingredient_name = ingredient[\"TenNguyenLieu\"].lower()\n",
        "        if kmp_search_with_precomputed_lps(question_lower, ingredient_name, lps_question):\n",
        "            detected_ingredients.append(ingredient)\n",
        "\n",
        "    return detected_ingredients"
      ],
      "metadata": {
        "id": "_ESe9Bg_okNS"
      },
      "execution_count": null,
      "outputs": []
    },
    {
      "cell_type": "code",
      "source": [
        "def getProductFromIngredients(products, ingredients):\n",
        "    ingredient_codes = {ingredient[\"MaNguyenLieu\"] for ingredient in ingredients}\n",
        "\n",
        "    matching_products = []\n",
        "\n",
        "    for product in products:\n",
        "        product_ingredient_codes = {ingredient['MaNguyenLieu'] for ingredient in product['CongThuc']}\n",
        "\n",
        "        if ingredient_codes.issubset(product_ingredient_codes):\n",
        "            matching_products.append(product)\n",
        "\n",
        "    return matching_products[:5]"
      ],
      "metadata": {
        "id": "jKiJc6dGDzZp"
      },
      "execution_count": null,
      "outputs": []
    },
    {
      "cell_type": "code",
      "source": [
        "question = \"đường\"\n",
        "\n",
        "x = find_ingredients_in_question_kmp_precomputed(question, ingredients)\n",
        "y = getProductFromIngredients(products, x)\n",
        "y"
      ],
      "metadata": {
        "colab": {
          "base_uri": "https://localhost:8080/"
        },
        "id": "2K-QWk_QEaR7",
        "outputId": "5a2762ec-f115-4900-f871-c4dfbf59b90e"
      },
      "execution_count": null,
      "outputs": [
        {
          "output_type": "execute_result",
          "data": {
            "text/plain": [
              "[{'MaSanPham': 'SP0051',\n",
              "  'TenSanPham': 'Cà phê lạnh chua',\n",
              "  'SoLuong': 0,\n",
              "  'MoTa': 'cà phê ngon',\n",
              "  'HinhAnh': 'https://res.cloudinary.com/dev9hnuhw/image/upload/v1717966829/coffee/djvuxrsexlbrq9nyixtj.jpg',\n",
              "  'LoaiSanPham': 'Cà phê',\n",
              "  'CongThuc': [{'MaDonVi': 'DV0001',\n",
              "    'MaNguyenLieu': 'NL0002',\n",
              "    'SoLuong': 100,\n",
              "    'TenDonVi': 'g',\n",
              "    'TenNguyenLieu': 'Đường'},\n",
              "   {'MaDonVi': 'DV0001',\n",
              "    'MaNguyenLieu': 'NL0004',\n",
              "    'SoLuong': 10,\n",
              "    'TenDonVi': 'g',\n",
              "    'TenNguyenLieu': 'Ca cao'}]}]"
            ]
          },
          "metadata": {},
          "execution_count": 34
        }
      ]
    },
    {
      "cell_type": "code",
      "source": [
        "def binary_search(product_id):\n",
        "    left, right = 0, product_size - 1\n",
        "    while left <= right:\n",
        "        mid = (left + right) // 2\n",
        "        mid_id = extract_number_from_id(products[mid]['MaSanPham'])\n",
        "        target_id = extract_number_from_id(product_id)\n",
        "        if mid_id == target_id:\n",
        "            return products[mid]\n",
        "        elif mid_id < target_id:\n",
        "            left = mid + 1\n",
        "        else:\n",
        "            right = mid - 1\n",
        "    return None  # Không tìm thấy sản phẩm"
      ],
      "metadata": {
        "id": "2tor860OiAOJ"
      },
      "execution_count": null,
      "outputs": []
    },
    {
      "cell_type": "markdown",
      "source": [
        "## Chatbot"
      ],
      "metadata": {
        "id": "TmqMdrVN1wXd"
      }
    },
    {
      "cell_type": "code",
      "source": [
        "def extract_number_from_id(product_id):\n",
        "    # Lấy phần số từ mã sản phẩm dạng \"SP0001\"\n",
        "    return int(product_id[2:])"
      ],
      "metadata": {
        "id": "QCgAntgEiLrQ"
      },
      "execution_count": null,
      "outputs": []
    },
    {
      "cell_type": "code",
      "source": [
        "def getInfomationProduct(product):\n",
        "    # Tạo câu mô tả sản phẩm\n",
        "    text = f\"{product['TenSanPham']} thuộc loại sản phẩm {product['LoaiSanPham']}. \"\n",
        "    text += f\"Sản phẩm này được mô tả như sau: {product['MoTa']}. \"\n",
        "    text += \"Nguyên liệu chính gồm: \"\n",
        "\n",
        "    # Danh sách các nguyên liệu từ 'CongThuc'\n",
        "    ingredients = \", \".join(congthuc.get('TenNguyenLieu', 'N/A') for congthuc in product['CongThuc'])\n",
        "    text += f\"{ingredients}. \"\n",
        "\n",
        "    # Thông tin về số lượng sản phẩm hiện có\n",
        "    text += f\"Số lượng hiện tại trong kho: {product['SoLuong']}.\\n\"\n",
        "\n",
        "    return text"
      ],
      "metadata": {
        "id": "6fLV2FHhfoRA"
      },
      "execution_count": null,
      "outputs": []
    },
    {
      "cell_type": "code",
      "source": [
        "import random\n",
        "\n",
        "def get_quality_info(products):\n",
        "    product = \"\"\n",
        "\n",
        "    if len(products) == 1:\n",
        "        product = products[0]\n",
        "    else:\n",
        "        product = random.choice(products)\n",
        "\n",
        "    message = f\"Sản phẩm {product['TenSanPham']} rất ngon \"\n",
        "    ingredients = \", \".join(congthuc.get('TenNguyenLieu', 'N/A') for congthuc in product['CongThuc'])\n",
        "    message += f\"vì được làm từ những nguyên liệu chất lượng như {ingredients}.\"\n",
        "\n",
        "    return message"
      ],
      "metadata": {
        "id": "xABeuUAW6cYv"
      },
      "execution_count": null,
      "outputs": []
    },
    {
      "cell_type": "code",
      "source": [
        "import requests\n",
        "\n",
        "url = \"http://huynhnhan2003.pythonanywhere.com/recommend\""
      ],
      "metadata": {
        "id": "ftPJjBEkOhlS"
      },
      "execution_count": null,
      "outputs": []
    },
    {
      "cell_type": "code",
      "source": [
        "beginMessage = \"Chào bạn, ESPRO xin trả lời câu hỏi của bạn lưu ý đây là tin nhắn tự động của trí tuệ nhân tạo.\"\n",
        "endMessage = (\n",
        "    \"Mong bạn hài lòng với câu trả lời của chúng tôi.\\n\"\n",
        "    \"Hiện tại, chúng tôi chỉ trả lời các câu hỏi liên quan đến thông tin sản phẩm, \"\n",
        "    \"sản phẩm bán chạy và gợi ý sản phẩm.\\nVí dụ:\\n\"\n",
        "    \"- Cà phê sữa còn hàng không?\\n\"\n",
        "    \"- Cho tôi danh sách sản phẩm bán chạy của quán.\\n\"\n",
        "    \"- Gợi ý cho tôi sản phẩm với.\\n\"\n",
        "    \"Chân thành cảm ơn bạn đã sử dụng dịch vụ của quán.\"\n",
        ")"
      ],
      "metadata": {
        "id": "3GiZJNZoOxus"
      },
      "execution_count": null,
      "outputs": []
    },
    {
      "cell_type": "code",
      "source": [
        "def getMessage(number, question, customer_id):\n",
        "    message = [beginMessage]\n",
        "\n",
        "    # Find products in the question\n",
        "    productInQuestion = find_products_in_question_kmp_precomputed(question, products)\n",
        "    sizeProductInQuestion = len(productInQuestion)\n",
        "\n",
        "    ingredientInQuestion = find_ingredients_in_question_kmp_precomputed(question, ingredients)\n",
        "\n",
        "    if number == 0:\n",
        "        # Information\n",
        "        message.append(\"\\n\")\n",
        "        message.extend(getInfomationProduct(product) for product in productInQuestion)\n",
        "\n",
        "    elif number == 1:\n",
        "        # Top sell\n",
        "        productIDs = GetTopProductID()\n",
        "        productTopSell = [binary_search(productID) for productID in productIDs]\n",
        "\n",
        "        message.append('Sản phẩm được bán chạy nhiều nhất của cửa hàng:\\n')\n",
        "        message.extend(f'- {product[\"TenSanPham\"]}\\n' for product in productTopSell)\n",
        "\n",
        "    elif number == 2:\n",
        "        # Recommendation\n",
        "        payload = {\n",
        "            \"MaSanPham\": productInQuestion[0]['MaSanPham'] if sizeProductInQuestion != 0 else \"SP0001\",\n",
        "            \"MaKhachHang\": \"\" if sizeProductInQuestion != 0 else customer_id\n",
        "        }\n",
        "\n",
        "        response = requests.post(url, json=payload)\n",
        "        productsRecommend = response.json()\n",
        "\n",
        "        message.append('Sản phẩm gợi ý cho bạn:\\n')\n",
        "        message.extend(f'- {product[\"TenSanPham\"]}' for product in productsRecommend)\n",
        "\n",
        "    elif number == 3:\n",
        "        productFromIngredients = getProductFromIngredients(products, ingredientInQuestion)\n",
        "        message.append('Các sản phẩm có thành phần bạn quan tâm:\\n')\n",
        "        message.extend(f'- {getInfomationProduct(product)}' for product in productFromIngredients)\n",
        "\n",
        "    elif number == 4:\n",
        "        # Quality information\n",
        "        message.append(f'Thông tin về chất lượng của sản phẩm: {get_quality_info(productInQuestion)}\\n')\n",
        "\n",
        "    elif number == 5:\n",
        "        # Greeting\n",
        "        message = ['Chào bạn! Cảm ơn bạn đã quan tâm đến cửa hàng của chúng tôi. Nếu bạn cần thông tin cụ thể về sản phẩm hoặc dịch vụ, vui lòng hỏi nhé!']\n",
        "\n",
        "    # Combine the messages into a single string\n",
        "    return '\\n'.join(message) + endMessage"
      ],
      "metadata": {
        "id": "1FPJMSr0WdaN"
      },
      "execution_count": null,
      "outputs": []
    },
    {
      "cell_type": "markdown",
      "source": [
        "# API"
      ],
      "metadata": {
        "id": "4vAZWBCfNSA_"
      }
    },
    {
      "cell_type": "code",
      "source": [
        "def chatBotGetMessage(question, customer_id):\n",
        "  number = getNumberPredict(question)\n",
        "  return getMessage(number, question, customer_id)"
      ],
      "metadata": {
        "id": "y7sxnCeEm003"
      },
      "execution_count": null,
      "outputs": []
    },
    {
      "cell_type": "code",
      "source": [
        "print(chatBotGetMessage(\"tôi nên dùng cà phê nào\", \"KH0001\"))"
      ],
      "metadata": {
        "colab": {
          "base_uri": "https://localhost:8080/"
        },
        "id": "Fla8Bu_frPJs",
        "outputId": "ad84c416-3dcf-4c85-dc72-3f598f3af0e6"
      },
      "execution_count": null,
      "outputs": [
        {
          "output_type": "stream",
          "name": "stdout",
          "text": [
            "\u001b[1m1/1\u001b[0m \u001b[32m━━━━━━━━━━━━━━━━━━━━\u001b[0m\u001b[37m\u001b[0m \u001b[1m0s\u001b[0m 40ms/step\n",
            "Chào bạn, ESPRO xin trả lời câu hỏi của bạn lưu ý đây là tin nhắn tự động của trí tuệ nhân tạo.\n",
            "Sản phẩm gợi ý cho bạn:\n",
            "\n",
            "- Cà phê Cappuccino\n",
            "\n",
            "- Cà phê Espresso\n",
            "\n",
            "- Cà phê Mocha\n",
            "\n",
            "- Cà phê kem tươi\n",
            "\n",
            "- Cà phê lạnh chua\n",
            "Mong bạn hài lòng với câu trả lời của chúng tôi.\n",
            "Hiện tại, chúng tôi chỉ trả lời các câu hỏi liên quan đến thông tin sản phẩm, sản phẩm bán chạy và gợi ý sản phẩm.\n",
            "Ví dụ:\n",
            "- Cà phê sữa còn hàng không?\n",
            "- Cho tôi danh sách sản phẩm bán chạy của quán.\n",
            "- Gợi ý cho tôi sản phẩm với.\n",
            "Chân thành cảm ơn bạn đã sử dụng dịch vụ của quán.\n"
          ]
        }
      ]
    },
    {
      "cell_type": "code",
      "source": [
        "!pip install fastapi\n",
        "!pip install pydantic\n",
        "!pip install pyngrok\n",
        "!pip install requests\n",
        "!pip install uvicorn"
      ],
      "metadata": {
        "colab": {
          "base_uri": "https://localhost:8080/"
        },
        "id": "miLr9yYoFEVv",
        "outputId": "615d4a14-798b-4860-9250-dc0a514ab1ce"
      },
      "execution_count": null,
      "outputs": [
        {
          "output_type": "stream",
          "name": "stdout",
          "text": [
            "Requirement already satisfied: fastapi in /usr/local/lib/python3.10/dist-packages (0.115.2)\n",
            "Requirement already satisfied: starlette<0.41.0,>=0.37.2 in /usr/local/lib/python3.10/dist-packages (from fastapi) (0.39.2)\n",
            "Requirement already satisfied: pydantic!=1.8,!=1.8.1,!=2.0.0,!=2.0.1,!=2.1.0,<3.0.0,>=1.7.4 in /usr/local/lib/python3.10/dist-packages (from fastapi) (2.9.2)\n",
            "Requirement already satisfied: typing-extensions>=4.8.0 in /usr/local/lib/python3.10/dist-packages (from fastapi) (4.12.2)\n",
            "Requirement already satisfied: annotated-types>=0.6.0 in /usr/local/lib/python3.10/dist-packages (from pydantic!=1.8,!=1.8.1,!=2.0.0,!=2.0.1,!=2.1.0,<3.0.0,>=1.7.4->fastapi) (0.7.0)\n",
            "Requirement already satisfied: pydantic-core==2.23.4 in /usr/local/lib/python3.10/dist-packages (from pydantic!=1.8,!=1.8.1,!=2.0.0,!=2.0.1,!=2.1.0,<3.0.0,>=1.7.4->fastapi) (2.23.4)\n",
            "Requirement already satisfied: anyio<5,>=3.4.0 in /usr/local/lib/python3.10/dist-packages (from starlette<0.41.0,>=0.37.2->fastapi) (3.7.1)\n",
            "Requirement already satisfied: idna>=2.8 in /usr/local/lib/python3.10/dist-packages (from anyio<5,>=3.4.0->starlette<0.41.0,>=0.37.2->fastapi) (3.10)\n",
            "Requirement already satisfied: sniffio>=1.1 in /usr/local/lib/python3.10/dist-packages (from anyio<5,>=3.4.0->starlette<0.41.0,>=0.37.2->fastapi) (1.3.1)\n",
            "Requirement already satisfied: exceptiongroup in /usr/local/lib/python3.10/dist-packages (from anyio<5,>=3.4.0->starlette<0.41.0,>=0.37.2->fastapi) (1.2.2)\n",
            "Requirement already satisfied: pydantic in /usr/local/lib/python3.10/dist-packages (2.9.2)\n",
            "Requirement already satisfied: annotated-types>=0.6.0 in /usr/local/lib/python3.10/dist-packages (from pydantic) (0.7.0)\n",
            "Requirement already satisfied: pydantic-core==2.23.4 in /usr/local/lib/python3.10/dist-packages (from pydantic) (2.23.4)\n",
            "Requirement already satisfied: typing-extensions>=4.6.1 in /usr/local/lib/python3.10/dist-packages (from pydantic) (4.12.2)\n",
            "Requirement already satisfied: pyngrok in /usr/local/lib/python3.10/dist-packages (7.2.0)\n",
            "Requirement already satisfied: PyYAML>=5.1 in /usr/local/lib/python3.10/dist-packages (from pyngrok) (6.0.2)\n",
            "Requirement already satisfied: requests in /usr/local/lib/python3.10/dist-packages (2.32.3)\n",
            "Requirement already satisfied: charset-normalizer<4,>=2 in /usr/local/lib/python3.10/dist-packages (from requests) (3.4.0)\n",
            "Requirement already satisfied: idna<4,>=2.5 in /usr/local/lib/python3.10/dist-packages (from requests) (3.10)\n",
            "Requirement already satisfied: urllib3<3,>=1.21.1 in /usr/local/lib/python3.10/dist-packages (from requests) (2.2.3)\n",
            "Requirement already satisfied: certifi>=2017.4.17 in /usr/local/lib/python3.10/dist-packages (from requests) (2024.8.30)\n",
            "Requirement already satisfied: uvicorn in /usr/local/lib/python3.10/dist-packages (0.31.1)\n",
            "Requirement already satisfied: click>=7.0 in /usr/local/lib/python3.10/dist-packages (from uvicorn) (8.1.7)\n",
            "Requirement already satisfied: h11>=0.8 in /usr/local/lib/python3.10/dist-packages (from uvicorn) (0.14.0)\n",
            "Requirement already satisfied: typing-extensions>=4.0 in /usr/local/lib/python3.10/dist-packages (from uvicorn) (4.12.2)\n"
          ]
        }
      ]
    },
    {
      "cell_type": "code",
      "source": [
        "from fastapi import FastAPI, HTTPException, Request\n",
        "from pydantic import BaseModel\n",
        "import json\n",
        "import uvicorn\n",
        "import nest_asyncio\n",
        "from pyngrok import ngrok"
      ],
      "metadata": {
        "id": "AocLukmLJLXb"
      },
      "execution_count": null,
      "outputs": []
    },
    {
      "cell_type": "code",
      "source": [
        "nest_asyncio.apply()"
      ],
      "metadata": {
        "id": "0us8OkXKH6m7"
      },
      "execution_count": null,
      "outputs": []
    },
    {
      "cell_type": "code",
      "source": [
        "app = FastAPI()\n",
        "\n",
        "@app.get(\"/\")\n",
        "async def home():\n",
        "  return {\"Hello API Coffee\"}"
      ],
      "metadata": {
        "id": "dAnxLkPVJ0CI"
      },
      "execution_count": null,
      "outputs": []
    },
    {
      "cell_type": "code",
      "source": [
        "from pydantic import BaseModel\n",
        "\n",
        "class requestChatbot(BaseModel):\n",
        "    MaKhachHang : str\n",
        "    CauHoi : str"
      ],
      "metadata": {
        "id": "9ZqdjA0kMvo_"
      },
      "execution_count": null,
      "outputs": []
    },
    {
      "cell_type": "code",
      "source": [
        "@app.post(\"/chatbot\")\n",
        "async def reply(request: requestChatbot):\n",
        "    try:\n",
        "        # Get JSON data from the request\n",
        "        request_data = await request.json()\n",
        "        user_id = request_data['MaKhachHang']\n",
        "        question = request_data['CauHoi']\n",
        "\n",
        "        # Generate the chatbot's response\n",
        "        message = chatBotGetMessage(question, user_id)\n",
        "\n",
        "        return {\"message\": message}\n",
        "    except Exception as e:\n",
        "        return {\"Message\": \"error\", \"Details\": str(e)}"
      ],
      "metadata": {
        "id": "JXEUQDsOJ62Q"
      },
      "execution_count": null,
      "outputs": []
    },
    {
      "cell_type": "code",
      "source": [
        "!ngrok config add-authtoken 2RTXfbCm3Gm5DCFEFfHAprwXgdI_3HPFH8ExdVKq4631Gixxp"
      ],
      "metadata": {
        "colab": {
          "base_uri": "https://localhost:8080/"
        },
        "id": "ZYaEdhlnNX7K",
        "outputId": "c18ce62c-3edf-4d7b-aa19-ee9a2250b732"
      },
      "execution_count": null,
      "outputs": [
        {
          "output_type": "stream",
          "name": "stdout",
          "text": [
            "Authtoken saved to configuration file: /root/.config/ngrok/ngrok.yml\n"
          ]
        }
      ]
    },
    {
      "cell_type": "code",
      "source": [
        "public_url = ngrok.connect(8050, bind_tls=True)\n",
        " # Specify the protocol and port correctly\n",
        "print(f\"Public URL: {public_url}\")"
      ],
      "metadata": {
        "colab": {
          "base_uri": "https://localhost:8080/"
        },
        "id": "NMxMkrn4IRVq",
        "outputId": "2c4f8e97-daab-4553-ed52-67328e84abc5"
      },
      "execution_count": null,
      "outputs": [
        {
          "output_type": "stream",
          "name": "stdout",
          "text": [
            "Public URL: NgrokTunnel: \"https://1554-34-91-47-113.ngrok-free.app\" -> \"http://localhost:8050\"\n"
          ]
        }
      ]
    },
    {
      "cell_type": "code",
      "source": [
        "import os\n",
        "import threading\n",
        "from flask import Flask, request\n",
        "from flask_ngrok import run_with_ngrok\n",
        "\n",
        "app = Flask(__name__)\n",
        "public_url = ngrok.connect(5000).public_url\n",
        "print(public_url)"
      ],
      "metadata": {
        "colab": {
          "base_uri": "https://localhost:8080/"
        },
        "id": "JvdZ1w0mPL-W",
        "outputId": "2cf99c0b-be74-4330-86a4-8bee9cf664ed"
      },
      "execution_count": null,
      "outputs": [
        {
          "output_type": "stream",
          "name": "stderr",
          "text": [
            "Exception in thread Thread-14 (new_run):\n",
            "Traceback (most recent call last):\n",
            "  File \"/usr/lib/python3.10/threading.py\", line 1016, in _bootstrap_inner\n",
            "    self.run()\n",
            "  File \"/usr/lib/python3.10/threading.py\", line 953, in run\n",
            "    self._target(*self._args, **self._kwargs)\n",
            "TypeError: run_with_ngrok.<locals>.new_run() got an unexpected keyword argument 'use_reloader'\n"
          ]
        }
      ]
    }
  ]
}